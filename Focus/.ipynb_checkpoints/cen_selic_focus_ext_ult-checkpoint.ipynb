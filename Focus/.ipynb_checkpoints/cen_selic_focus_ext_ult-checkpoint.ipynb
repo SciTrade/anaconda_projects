{
 "cells": [
  {
   "cell_type": "markdown",
   "id": "f233c989-cc67-4a4f-a3ef-785443ec4901",
   "metadata": {},
   "source": [
    "Crea el cenario:\" Selic Focus Ext Ult\" que consiste em os valores da predicção Focus extendida hasta o 1/2035\n",
    "de forma costante com o ultimo valor da previçõn Focus da taxa Selic "
   ]
  },
  {
   "cell_type": "code",
   "execution_count": 8,
   "id": "9ce13c59-fab0-44c1-96fe-5669de8170c0",
   "metadata": {
    "scrolled": true
   },
   "outputs": [
    {
     "data": {
      "text/html": [
       "<div>\n",
       "<style scoped>\n",
       "    .dataframe tbody tr th:only-of-type {\n",
       "        vertical-align: middle;\n",
       "    }\n",
       "\n",
       "    .dataframe tbody tr th {\n",
       "        vertical-align: top;\n",
       "    }\n",
       "\n",
       "    .dataframe thead th {\n",
       "        text-align: right;\n",
       "    }\n",
       "</style>\n",
       "<table border=\"1\" class=\"dataframe\">\n",
       "  <thead>\n",
       "    <tr style=\"text-align: right;\">\n",
       "      <th></th>\n",
       "      <th>id_SelicPrev</th>\n",
       "      <th>DataFocus</th>\n",
       "      <th>DataPredic</th>\n",
       "      <th>Media</th>\n",
       "    </tr>\n",
       "  </thead>\n",
       "  <tbody>\n",
       "    <tr>\n",
       "      <th>0</th>\n",
       "      <td>2025-03-21_2025-05-31</td>\n",
       "      <td>2025-03-21 00:00:00</td>\n",
       "      <td>2025-05-31 00:00:00</td>\n",
       "      <td>14.7870</td>\n",
       "    </tr>\n",
       "    <tr>\n",
       "      <th>1</th>\n",
       "      <td>2025-03-21_2025-06-30</td>\n",
       "      <td>2025-03-21 00:00:00</td>\n",
       "      <td>2025-06-30 00:00:00</td>\n",
       "      <td>15.0405</td>\n",
       "    </tr>\n",
       "    <tr>\n",
       "      <th>2</th>\n",
       "      <td>2025-03-21_2025-07-31</td>\n",
       "      <td>2025-03-21 00:00:00</td>\n",
       "      <td>2025-07-31 00:00:00</td>\n",
       "      <td>15.0557</td>\n",
       "    </tr>\n",
       "    <tr>\n",
       "      <th>3</th>\n",
       "      <td>2025-03-21_2025-08-31</td>\n",
       "      <td>2025-03-21 00:00:00</td>\n",
       "      <td>2025-08-31 00:00:00</td>\n",
       "      <td>15.0557</td>\n",
       "    </tr>\n",
       "    <tr>\n",
       "      <th>4</th>\n",
       "      <td>2025-03-21_2025-09-30</td>\n",
       "      <td>2025-03-21 00:00:00</td>\n",
       "      <td>2025-09-30 00:00:00</td>\n",
       "      <td>15.0528</td>\n",
       "    </tr>\n",
       "    <tr>\n",
       "      <th>5</th>\n",
       "      <td>2025-03-21_2025-10-31</td>\n",
       "      <td>2025-03-21 00:00:00</td>\n",
       "      <td>2025-10-31 00:00:00</td>\n",
       "      <td>15.0528</td>\n",
       "    </tr>\n",
       "    <tr>\n",
       "      <th>6</th>\n",
       "      <td>2025-03-21_2025-11-30</td>\n",
       "      <td>2025-03-21 00:00:00</td>\n",
       "      <td>2025-11-30 00:00:00</td>\n",
       "      <td>15.0088</td>\n",
       "    </tr>\n",
       "    <tr>\n",
       "      <th>7</th>\n",
       "      <td>2025-03-21_2025-12-31</td>\n",
       "      <td>2025-03-21 00:00:00</td>\n",
       "      <td>2025-12-31 00:00:00</td>\n",
       "      <td>14.9301</td>\n",
       "    </tr>\n",
       "    <tr>\n",
       "      <th>8</th>\n",
       "      <td>2025-03-21_2026-01-31</td>\n",
       "      <td>2025-03-21 00:00:00</td>\n",
       "      <td>2026-01-31 00:00:00</td>\n",
       "      <td>14.6510</td>\n",
       "    </tr>\n",
       "    <tr>\n",
       "      <th>9</th>\n",
       "      <td>2025-03-21_2026-02-28</td>\n",
       "      <td>2025-03-21 00:00:00</td>\n",
       "      <td>2026-02-28 00:00:00</td>\n",
       "      <td>14.6510</td>\n",
       "    </tr>\n",
       "    <tr>\n",
       "      <th>10</th>\n",
       "      <td>2025-03-21_2026-03-31</td>\n",
       "      <td>2025-03-21 00:00:00</td>\n",
       "      <td>2026-03-31 00:00:00</td>\n",
       "      <td>14.2810</td>\n",
       "    </tr>\n",
       "    <tr>\n",
       "      <th>11</th>\n",
       "      <td>2025-03-21_2026-04-30</td>\n",
       "      <td>2025-03-21 00:00:00</td>\n",
       "      <td>2026-04-30 00:00:00</td>\n",
       "      <td>14.2810</td>\n",
       "    </tr>\n",
       "    <tr>\n",
       "      <th>12</th>\n",
       "      <td>2025-03-21_2026-05-31</td>\n",
       "      <td>2025-03-21 00:00:00</td>\n",
       "      <td>2026-05-31 00:00:00</td>\n",
       "      <td>13.8924</td>\n",
       "    </tr>\n",
       "    <tr>\n",
       "      <th>13</th>\n",
       "      <td>2025-03-21_2026-06-30</td>\n",
       "      <td>2025-03-21 00:00:00</td>\n",
       "      <td>2026-06-30 00:00:00</td>\n",
       "      <td>13.5241</td>\n",
       "    </tr>\n",
       "    <tr>\n",
       "      <th>14</th>\n",
       "      <td>2025-03-21_2026-07-31</td>\n",
       "      <td>2025-03-21 00:00:00</td>\n",
       "      <td>2026-07-31 00:00:00</td>\n",
       "      <td>13.1966</td>\n",
       "    </tr>\n",
       "    <tr>\n",
       "      <th>15</th>\n",
       "      <td>2025-03-21_2026-08-31</td>\n",
       "      <td>2025-03-21 00:00:00</td>\n",
       "      <td>2026-08-31 00:00:00</td>\n",
       "      <td>13.1966</td>\n",
       "    </tr>\n",
       "    <tr>\n",
       "      <th>16</th>\n",
       "      <td>2025-03-21_2026-09-30</td>\n",
       "      <td>2025-03-21 00:00:00</td>\n",
       "      <td>2026-09-30 00:00:00</td>\n",
       "      <td>12.9342</td>\n",
       "    </tr>\n",
       "    <tr>\n",
       "      <th>17</th>\n",
       "      <td>2025-03-21_2026-10-31</td>\n",
       "      <td>2025-03-21 00:00:00</td>\n",
       "      <td>2026-10-31 00:00:00</td>\n",
       "      <td>12.9342</td>\n",
       "    </tr>\n",
       "    <tr>\n",
       "      <th>18</th>\n",
       "      <td>2025-03-21_2026-11-30</td>\n",
       "      <td>2025-03-21 00:00:00</td>\n",
       "      <td>2026-11-30 00:00:00</td>\n",
       "      <td>12.7390</td>\n",
       "    </tr>\n",
       "    <tr>\n",
       "      <th>19</th>\n",
       "      <td>2025-03-21_2026-12-31</td>\n",
       "      <td>2025-03-21 00:00:00</td>\n",
       "      <td>2026-12-31 00:00:00</td>\n",
       "      <td>12.5673</td>\n",
       "    </tr>\n",
       "    <tr>\n",
       "      <th>20</th>\n",
       "      <td>2025-03-21_2027-01-31</td>\n",
       "      <td>2025-03-21 00:00:00</td>\n",
       "      <td>2027-01-31 00:00:00</td>\n",
       "      <td>12.4226</td>\n",
       "    </tr>\n",
       "    <tr>\n",
       "      <th>21</th>\n",
       "      <td>2025-03-21_2027-02-28</td>\n",
       "      <td>2025-03-21 00:00:00</td>\n",
       "      <td>2027-02-28 00:00:00</td>\n",
       "      <td>12.4226</td>\n",
       "    </tr>\n",
       "    <tr>\n",
       "      <th>22</th>\n",
       "      <td>2025-03-21_2027-03-31</td>\n",
       "      <td>2025-03-21 00:00:00</td>\n",
       "      <td>2027-03-31 00:00:00</td>\n",
       "      <td>12.3278</td>\n",
       "    </tr>\n",
       "  </tbody>\n",
       "</table>\n",
       "</div>"
      ],
      "text/plain": [
       "             id_SelicPrev            DataFocus           DataPredic    Media\n",
       "0   2025-03-21_2025-05-31  2025-03-21 00:00:00  2025-05-31 00:00:00  14.7870\n",
       "1   2025-03-21_2025-06-30  2025-03-21 00:00:00  2025-06-30 00:00:00  15.0405\n",
       "2   2025-03-21_2025-07-31  2025-03-21 00:00:00  2025-07-31 00:00:00  15.0557\n",
       "3   2025-03-21_2025-08-31  2025-03-21 00:00:00  2025-08-31 00:00:00  15.0557\n",
       "4   2025-03-21_2025-09-30  2025-03-21 00:00:00  2025-09-30 00:00:00  15.0528\n",
       "5   2025-03-21_2025-10-31  2025-03-21 00:00:00  2025-10-31 00:00:00  15.0528\n",
       "6   2025-03-21_2025-11-30  2025-03-21 00:00:00  2025-11-30 00:00:00  15.0088\n",
       "7   2025-03-21_2025-12-31  2025-03-21 00:00:00  2025-12-31 00:00:00  14.9301\n",
       "8   2025-03-21_2026-01-31  2025-03-21 00:00:00  2026-01-31 00:00:00  14.6510\n",
       "9   2025-03-21_2026-02-28  2025-03-21 00:00:00  2026-02-28 00:00:00  14.6510\n",
       "10  2025-03-21_2026-03-31  2025-03-21 00:00:00  2026-03-31 00:00:00  14.2810\n",
       "11  2025-03-21_2026-04-30  2025-03-21 00:00:00  2026-04-30 00:00:00  14.2810\n",
       "12  2025-03-21_2026-05-31  2025-03-21 00:00:00  2026-05-31 00:00:00  13.8924\n",
       "13  2025-03-21_2026-06-30  2025-03-21 00:00:00  2026-06-30 00:00:00  13.5241\n",
       "14  2025-03-21_2026-07-31  2025-03-21 00:00:00  2026-07-31 00:00:00  13.1966\n",
       "15  2025-03-21_2026-08-31  2025-03-21 00:00:00  2026-08-31 00:00:00  13.1966\n",
       "16  2025-03-21_2026-09-30  2025-03-21 00:00:00  2026-09-30 00:00:00  12.9342\n",
       "17  2025-03-21_2026-10-31  2025-03-21 00:00:00  2026-10-31 00:00:00  12.9342\n",
       "18  2025-03-21_2026-11-30  2025-03-21 00:00:00  2026-11-30 00:00:00  12.7390\n",
       "19  2025-03-21_2026-12-31  2025-03-21 00:00:00  2026-12-31 00:00:00  12.5673\n",
       "20  2025-03-21_2027-01-31  2025-03-21 00:00:00  2027-01-31 00:00:00  12.4226\n",
       "21  2025-03-21_2027-02-28  2025-03-21 00:00:00  2027-02-28 00:00:00  12.4226\n",
       "22  2025-03-21_2027-03-31  2025-03-21 00:00:00  2027-03-31 00:00:00  12.3278"
      ]
     },
     "metadata": {},
     "output_type": "display_data"
    }
   ],
   "source": [
    "import pandas as pd\n",
    "import sqlite3 \n",
    "# Conectar ao banco de dados SQLite\n",
    "conexao = sqlite3.connect('SqCenarios.db')  # Insira o nome do arquivo do banco de dados aqui\n",
    "\n",
    "# Ler a tabela do banco de dados para um DataFrame\n",
    "nome_tabela = 'tbselicfocus'  # Substitua pelo nome da tabela\n",
    "dfselicprev = pd.read_sql(f\"SELECT * FROM {nome_tabela}\", conexao)\n",
    "\n",
    "# Fechar a conexão\n",
    "conexao.close()\n",
    "\n",
    "# Exibir o DataFrame\n",
    "display(dfselicprev)"
   ]
  },
  {
   "cell_type": "markdown",
   "id": "0566c4cd-5ac8-4d7c-9f46-862c30f80c2d",
   "metadata": {},
   "source": [
    "Agrego a tabela tbcenario um novo cenario"
   ]
  },
  {
   "cell_type": "code",
   "execution_count": 41,
   "id": "2acb84bc-d559-4e9f-8496-bf9be73d49d7",
   "metadata": {},
   "outputs": [],
   "source": [
    "# nome do cenario\n",
    "nome = 'Selic Focus Ext Ult'\n",
    "# texto de descripção do cenario\n",
    "descripzao = 'Cenario com a última previção focus da tasa Selic pra os próximos dois anos extendida com suo ultimo valor hasta o ano 2035'\n",
    "# Data final do cenario\n",
    "dataultimo = '1/1/35'\n",
    "# Data final convertido a datetime e a string pra guardar na database como texto\n",
    "datafin = str( pd.to_datetime(dataultimo, format='%d/%m/%y'))"
   ]
  },
  {
   "cell_type": "code",
   "execution_count": 43,
   "id": "5a5fae14-7bd0-46cd-ac2c-4e581dd6a73c",
   "metadata": {},
   "outputs": [
    {
     "name": "stdout",
     "output_type": "stream",
     "text": [
      "Registro agregado exitosamente\n"
     ]
    }
   ],
   "source": [
    "import sqlite3\n",
    "\n",
    "# Conexión a la base de datos\n",
    "conexion = sqlite3.connect('SqCenarios.db')\n",
    "cursor = conexion.cursor()\n",
    "\n",
    "# SQL para insertar valores en la tabla\n",
    "\n",
    "sql_insert = \"INSERT INTO tbcenarios (nome, descripzao, datafin) VALUES (?, ?, ?)\"\n",
    "\n",
    "try:\n",
    "    cursor.execute(sql_insert, (nome, descripzao, datafin))\n",
    "    conexion.commit()  # Guardar cambios\n",
    "    print(\"Registro agregado exitosamente\")\n",
    "except Exception as e:\n",
    "    print(\"Error al insertar datos:\", e)\n",
    "finally:\n",
    "    conexion.close()  # Cerrar conexión"
   ]
  },
  {
   "cell_type": "markdown",
   "id": "ba57a737-600a-4c95-bf4d-57c09292a96c",
   "metadata": {},
   "source": [
    "Recupera o valor do id_cenario (autonumerico do BD) correspondente al cenario creado"
   ]
  },
  {
   "cell_type": "code",
   "execution_count": 46,
   "id": "b8a83830-4ea9-4590-afc6-ce683da943e9",
   "metadata": {},
   "outputs": [
    {
     "name": "stdout",
     "output_type": "stream",
     "text": [
      "id_cenario: 5\n"
     ]
    }
   ],
   "source": [
    "import sqlite3\n",
    "\n",
    "# Conexão ao banco de dados\n",
    "conexao = sqlite3.connect('SqCenarios.db')\n",
    "cursor = conexao.cursor()\n",
    "\n",
    "# SQL para buscar o id_cenario baseado no nome\n",
    "sql_select = \"SELECT id_cenario FROM tbcenarios WHERE nome = ?\"\n",
    "\n",
    "try:\n",
    "    cursor.execute(sql_select, (nome,))\n",
    "    resultado = cursor.fetchone()  # Retorna apenas o primeiro registro encontrado\n",
    "    if resultado:\n",
    "        id_cenario = resultado[0]  # Obtém o valor do campo id_cenario\n",
    "        print(f\"id_cenario: {id_cenario}\")\n",
    "    else:\n",
    "        print(\"Nenhum registro encontrado com esse nome.\")\n",
    "except Exception as e:\n",
    "    print(\"Erro ao buscar dados:\", e)\n",
    "finally:\n",
    "    conexao.close()  # Fechar conexão"
   ]
  },
  {
   "cell_type": "code",
   "execution_count": null,
   "id": "b6be2d8c-aacf-400f-a783-cb5e91171544",
   "metadata": {},
   "outputs": [],
   "source": []
  },
  {
   "cell_type": "markdown",
   "id": "29340adc-6649-4f89-82ac-a12738ad2240",
   "metadata": {},
   "source": [
    "Crea cenario \"tedircen1\"  que e a  predicção Focus extendida hasta el 1/ 2035 com uma taxa selic constante  igual a ultima taxa\n",
    "selic previçonada por Focus."
   ]
  },
  {
   "cell_type": "code",
   "execution_count": 50,
   "id": "b75e9e2f-8f36-437f-9853-5c2e579e3c8b",
   "metadata": {},
   "outputs": [
    {
     "name": "stdout",
     "output_type": "stream",
     "text": [
      "              id_SelicPrev  DataFocus DataPredic    Media\n",
      "0    2025-03-21_2025-05-31 2025-03-21 2025-05-31  14.7870\n",
      "1    2025-03-21_2025-06-30 2025-03-21 2025-06-30  15.0405\n",
      "2    2025-03-21_2025-07-31 2025-03-21 2025-07-31  15.0557\n",
      "3    2025-03-21_2025-08-31 2025-03-21 2025-08-31  15.0557\n",
      "4    2025-03-21_2025-09-30 2025-03-21 2025-09-30  15.0528\n",
      "..                     ...        ...        ...      ...\n",
      "111  2025-03-21_2034-08-31 2025-03-21 2034-08-31  12.3278\n",
      "112  2025-03-21_2034-09-30 2025-03-21 2034-09-30  12.3278\n",
      "113  2025-03-21_2034-10-31 2025-03-21 2034-10-31  12.3278\n",
      "114  2025-03-21_2034-11-30 2025-03-21 2034-11-30  12.3278\n",
      "115  2025-03-21_2034-12-31 2025-03-21 2034-12-31  12.3278\n",
      "\n",
      "[116 rows x 4 columns]\n"
     ]
    }
   ],
   "source": [
    "import pandas as pd\n",
    "\n",
    "\n",
    "tedircen1 = pd.DataFrame(dfselicprev)\n",
    "\n",
    "# Converter colunas de data para datetime\n",
    "tedircen1['DataFocus'] = pd.to_datetime(tedircen1['DataFocus'])\n",
    "tedircen1['DataPredic'] = pd.to_datetime(tedircen1['DataPredic'])\n",
    "\n",
    "# Último valor de Media e última DataFocus\n",
    "ultimo_valor_media = tedircen1['Media'].iloc[-1]\n",
    "data_focus = tedircen1['DataFocus'].iloc[-1]\n",
    "\n",
    "# Definir a última data para extender\n",
    "\n",
    "data_final = pd.to_datetime(dataultimo, format='%d/%m/%y')\n",
    "\n",
    "# Criar novas linhas até a data final\n",
    "novas_datas = pd.date_range(\n",
    "    start=tedircen1['DataPredic'].max() + pd.offsets.MonthEnd(1), \n",
    "    end=data_final,\n",
    "    freq='ME'\n",
    ")\n",
    "\n",
    "# Gerar novas linhas do DataFrame\n",
    "novas_linhas = pd.DataFrame({\n",
    "    'id_SelicPrev': [f\"{data_focus.strftime('%Y-%m-%d')}_{data.strftime('%Y-%m-%d')}\" for data in novas_datas],\n",
    "    'DataFocus': [data_focus] * len(novas_datas),\n",
    "    'DataPredic': novas_datas,\n",
    "    'Media': [ultimo_valor_media] * len(novas_datas)\n",
    "})\n",
    "\n",
    "# Concatenar os DataFrames\n",
    "tedircen1 = pd.concat([tedircen1, novas_linhas], ignore_index=True)\n",
    "\n",
    "# Exibir o DataFrame atualizado\n",
    "print(tedircen1)"
   ]
  },
  {
   "cell_type": "code",
   "execution_count": null,
   "id": "dbdf236d-149f-4f8f-949e-0d60c3628dda",
   "metadata": {},
   "outputs": [],
   "source": [
    "Creo gráfico para ver o novo cenario"
   ]
  },
  {
   "cell_type": "code",
   "execution_count": 52,
   "id": "db3cc29e-de13-4f71-96aa-c59062694f46",
   "metadata": {},
   "outputs": [
    {
     "data": {
      "image/png": "[encoded data removed]",
      "text/plain": [
       "<Figure size 1000x600 with 1 Axes>"
      ]
     },
     "metadata": {},
     "output_type": "display_data"
    }
   ],
   "source": [
    "import matplotlib.pyplot as plt\n",
    "\n",
    "# Criar o gráfico principal para \"Van\"\n",
    "fig, ax1 = plt.subplots(figsize=(10, 6))\n",
    "\n",
    "# Plotar \"Media\" no eixo Y principal\n",
    "ax1.plot(tedircen1['DataPredic'], tedircen1['Media'], marker='o', linestyle='-', color='b', label='Selic Prev')\n",
    "ax1.set_xlabel('Data Cenario', fontsize=12)\n",
    "ax1.set_ylabel('Selic Prev', fontsize=12, color='b')\n",
    "#ax1.tick_params(axis='y', labelcolor='b')\n",
    "ax1.grid(True)\n",
    "\n",
    "\n",
    "# Adicionar um título ao gráfico\n",
    "plt.title('Cenario Selic Focus Last Tax Extend', fontsize=14)\n",
    "\n",
    "# Adicionar legendas para cada série\n",
    "ax1.legend(loc='upper right')\n",
    "\n",
    "\n",
    "# Exibir o gráfico\n",
    "plt.show()"
   ]
  },
  {
   "cell_type": "markdown",
   "id": "86b9bd8d-e123-4508-9971-0628898a8429",
   "metadata": {},
   "source": [
    "crea um dataframe pra exportar o cenario ao banco de dados  SqCenario"
   ]
  },
  {
   "cell_type": "code",
   "execution_count": 58,
   "id": "9c0398fb-bede-4eaf-9f01-ebc261c990fe",
   "metadata": {},
   "outputs": [
    {
     "data": {
      "text/html": [
       "<div>\n",
       "<style scoped>\n",
       "    .dataframe tbody tr th:only-of-type {\n",
       "        vertical-align: middle;\n",
       "    }\n",
       "\n",
       "    .dataframe tbody tr th {\n",
       "        vertical-align: top;\n",
       "    }\n",
       "\n",
       "    .dataframe thead th {\n",
       "        text-align: right;\n",
       "    }\n",
       "</style>\n",
       "<table border=\"1\" class=\"dataframe\">\n",
       "  <thead>\n",
       "    <tr style=\"text-align: right;\">\n",
       "      <th></th>\n",
       "      <th>id_cenario</th>\n",
       "      <th>data</th>\n",
       "      <th>valor</th>\n",
       "      <th>desvio</th>\n",
       "    </tr>\n",
       "  </thead>\n",
       "  <tbody>\n",
       "    <tr>\n",
       "      <th>0</th>\n",
       "      <td>5</td>\n",
       "      <td>2025-05-31</td>\n",
       "      <td>14.7870</td>\n",
       "      <td>0</td>\n",
       "    </tr>\n",
       "    <tr>\n",
       "      <th>1</th>\n",
       "      <td>5</td>\n",
       "      <td>2025-06-30</td>\n",
       "      <td>15.0405</td>\n",
       "      <td>0</td>\n",
       "    </tr>\n",
       "    <tr>\n",
       "      <th>2</th>\n",
       "      <td>5</td>\n",
       "      <td>2025-07-31</td>\n",
       "      <td>15.0557</td>\n",
       "      <td>0</td>\n",
       "    </tr>\n",
       "    <tr>\n",
       "      <th>3</th>\n",
       "      <td>5</td>\n",
       "      <td>2025-08-31</td>\n",
       "      <td>15.0557</td>\n",
       "      <td>0</td>\n",
       "    </tr>\n",
       "    <tr>\n",
       "      <th>4</th>\n",
       "      <td>5</td>\n",
       "      <td>2025-09-30</td>\n",
       "      <td>15.0528</td>\n",
       "      <td>0</td>\n",
       "    </tr>\n",
       "  </tbody>\n",
       "</table>\n",
       "</div>"
      ],
      "text/plain": [
       "   id_cenario       data    valor  desvio\n",
       "0           5 2025-05-31  14.7870       0\n",
       "1           5 2025-06-30  15.0405       0\n",
       "2           5 2025-07-31  15.0557       0\n",
       "3           5 2025-08-31  15.0557       0\n",
       "4           5 2025-09-30  15.0528       0"
      ]
     },
     "metadata": {},
     "output_type": "display_data"
    }
   ],
   "source": [
    "import pandas as pd\n",
    "\n",
    "\n",
    "# Para garantir que o valor constante seja replicado para todas as linhas, podemos fazer o seguinte:\n",
    "dfcenario = pd.DataFrame({\n",
    "    'id_cenario': [id_cenario] * len(tedircen1),      # valor constante para todas as linhas\n",
    "    #'variavel_macro': ['Taxa Selic'] * len(tedircen1),             # valor constante para todas as linhas\n",
    "    'data': tedircen1['DataPredic'],                       # valor mapeado da coluna 'DataPredic'\n",
    "    'valor': tedircen1['Media'],                             # valor mapeado da coluna 'Media'\n",
    "    'desvio': [0] * len(tedircen1)                    # valor 0 para todas as linhas\n",
    "})\n",
    "\n",
    "# Exibe as cinco primeiras linhas para confirmar\n",
    "display(dfcenario.head())"
   ]
  },
  {
   "cell_type": "code",
   "execution_count": null,
   "id": "efdd1072-5ec5-4de9-94f5-b76f7f0587c3",
   "metadata": {},
   "outputs": [],
   "source": [
    "Antes de importar deleta as linhas com mesmo id_cenario , pra atualizar o cenario sim duplicar"
   ]
  },
  {
   "cell_type": "code",
   "execution_count": 62,
   "id": "3ffbf3db-9ead-489a-90f0-37056639469d",
   "metadata": {},
   "outputs": [
    {
     "name": "stdout",
     "output_type": "stream",
     "text": [
      "Registros com id_cenario = '5' foram excluídos da tabela 'tbcenariosdados'.\n"
     ]
    }
   ],
   "source": [
    "import sqlite3\n",
    "\n",
    "# Valor constante da coluna 'id_cenario' no DataFrame dfcenario\n",
    "id_cenario = dfcenario['id_cenario'].iloc[0]  # Pegando o primeiro valor (eles são iguais)\n",
    "\n",
    "# Conectar ao banco SQLite\n",
    "conn = sqlite3.connect('SqCenarios.db')\n",
    "\n",
    "# Excluir os registros com o mesmo 'id_cenario'\n",
    "try:\n",
    "    cursor = conn.cursor()\n",
    "    cursor.execute(\"DELETE FROM tbcenariosdados WHERE id_cenarios = ?\", (id_cenario,))\n",
    "    conn.commit()  # Confirma a exclusão\n",
    "    print(f\"Registros com id_cenario = '{id_cenario}' foram excluídos da tabela 'tbcenariosdados'.\")\n",
    "except Exception as e:\n",
    "    print(\"Erro ao deletar os registros:\", e)\n",
    "finally:\n",
    "    conn.close()"
   ]
  },
  {
   "cell_type": "markdown",
   "id": "728bd9f9-b254-4040-b5bc-6946edd78c21",
   "metadata": {},
   "source": [
    "Inserta los valores nuevos para la tabela tbcenariosdados"
   ]
  },
  {
   "cell_type": "code",
   "execution_count": 66,
   "id": "5039dc05-e10c-4cf3-9d91-8c390acaa79d",
   "metadata": {},
   "outputs": [
    {
     "name": "stdout",
     "output_type": "stream",
     "text": [
      "Dados adicionados com sucesso à tabela 'tbcenariosdados'.\n"
     ]
    }
   ],
   "source": [
    "import sqlite3\n",
    "\n",
    "# Supondo que 'dfcenario' já foi criado anteriormente\n",
    "# Exemplo de conexão ao banco de dados SQLite\n",
    "conn = sqlite3.connect('SqCenarios.db')\n",
    "\n",
    "# Usando `to_sql` para inserir os dados na tabela existente 'tbcenariosdados'\n",
    "try:\n",
    "    dfcenario.to_sql('tbcenariosdados', conn, if_exists='append', index=False)\n",
    "    print(\"Dados adicionados com sucesso à tabela 'tbcenariosdados'.\")\n",
    "except Exception as e:\n",
    "    print(\"Ocorreu um erro durante a importação:\", e)\n",
    "finally:\n",
    "    conn.close()"
   ]
  },
  {
   "cell_type": "code",
   "execution_count": null,
   "id": "756a422c-4280-4ea5-ac96-5e7d6a69c3c1",
   "metadata": {},
   "outputs": [],
   "source": []
  }
 ],
 "metadata": {
  "kernelspec": {
   "display_name": "Python [conda env:base] *",
   "language": "python",
   "name": "conda-base-py"
  },
  "language_info": {
   "codemirror_mode": {
    "name": "ipython",
    "version": 3
   },
   "file_extension": ".py",
   "mimetype": "text/x-python",
   "name": "python",
   "nbconvert_exporter": "python",
   "pygments_lexer": "ipython3",
   "version": "3.12.3"
  }
 },
 "nbformat": 4,
 "nbformat_minor": 5
}
