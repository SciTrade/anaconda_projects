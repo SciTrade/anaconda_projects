{
 "cells": [
  {
   "cell_type": "code",
   "execution_count": 1,
   "id": "6b762a61-895b-4d43-9dd5-02956b463f0a",
   "metadata": {
    "jupyter": {
     "source_hidden": true
    },
    "scrolled": true
   },
   "outputs": [
    {
     "name": "stdout",
     "output_type": "stream",
     "text": [
      "Defaulting to user installation because normal site-packages is not writeable\n",
      "Requirement already satisfied: pipenv in c:\\users\\scitr\\appdata\\roaming\\python\\python312\\site-packages (2024.4.1)\n",
      "Requirement already satisfied: certifi in c:\\programdata\\anaconda3\\lib\\site-packages (from pipenv) (2025.1.31)\n",
      "Requirement already satisfied: packaging>=22 in c:\\programdata\\anaconda3\\lib\\site-packages (from pipenv) (24.1)\n",
      "Requirement already satisfied: setuptools>=67 in c:\\programdata\\anaconda3\\lib\\site-packages (from pipenv) (75.1.0)\n",
      "Requirement already satisfied: virtualenv>=20.24.2 in c:\\users\\scitr\\appdata\\roaming\\python\\python312\\site-packages (from pipenv) (20.29.2)\n",
      "Requirement already satisfied: distlib<1,>=0.3.7 in c:\\users\\scitr\\appdata\\roaming\\python\\python312\\site-packages (from virtualenv>=20.24.2->pipenv) (0.3.9)\n",
      "Requirement already satisfied: filelock<4,>=3.12.2 in c:\\programdata\\anaconda3\\lib\\site-packages (from virtualenv>=20.24.2->pipenv) (3.13.1)\n",
      "Requirement already satisfied: platformdirs<5,>=3.9.1 in c:\\programdata\\anaconda3\\lib\\site-packages (from virtualenv>=20.24.2->pipenv) (3.10.0)\n",
      "Note: you may need to restart the kernel to use updated packages.\n"
     ]
    }
   ],
   "source": [
    "pip install pipenv"
   ]
  },
  {
   "cell_type": "code",
   "execution_count": 4,
   "id": "65f4e99b-82a7-4c59-86d2-ce81a600b3df",
   "metadata": {},
   "outputs": [
    {
     "ename": "NameError",
     "evalue": "name 'pipenv' is not defined",
     "output_type": "error",
     "traceback": [
      "\u001b[1;31m---------------------------------------------------------------------------\u001b[0m",
      "\u001b[1;31mNameError\u001b[0m                                 Traceback (most recent call last)",
      "Cell \u001b[1;32mIn[4], line 1\u001b[0m\n\u001b[1;32m----> 1\u001b[0m pipenv \u001b[38;5;241m-\u001b[39m\u001b[38;5;241m-\u001b[39mversion\n",
      "\u001b[1;31mNameError\u001b[0m: name 'pipenv' is not defined"
     ]
    }
   ],
   "source": [
    "pipenv --version"
   ]
  },
  {
   "cell_type": "code",
   "execution_count": null,
   "id": "b6dfd5f1-6186-4e27-bcdc-aa30349d6daf",
   "metadata": {},
   "outputs": [],
   "source": []
  }
 ],
 "metadata": {
  "kernelspec": {
   "display_name": "Python [conda env:base] *",
   "language": "python",
   "name": "conda-base-py"
  },
  "language_info": {
   "codemirror_mode": {
    "name": "ipython",
    "version": 3
   },
   "file_extension": ".py",
   "mimetype": "text/x-python",
   "name": "python",
   "nbconvert_exporter": "python",
   "pygments_lexer": "ipython3",
   "version": "3.12.7"
  }
 },
 "nbformat": 4,
 "nbformat_minor": 5
}
