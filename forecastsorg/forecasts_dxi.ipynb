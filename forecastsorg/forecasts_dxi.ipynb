{
 "cells": [
  {
   "cell_type": "markdown",
   "id": "40fce9b4-51d8-477d-8bd3-22c4c7cdbca1",
   "metadata": {},
   "source": [
    "Face web scraping do forecasts de DXY da pagina  https://www.forecasts.org/dollar-forecast.htm"
   ]
  },
  {
   "cell_type": "markdown",
   "id": "4a003358-5da5-47d3-8b69-7c6a11207489",
   "metadata": {},
   "source": [
    "gera df con os títulos ao consultar (symbol , url)"
   ]
  },
  {
   "cell_type": "code",
   "execution_count": 93,
   "id": "003510dd-a37c-4913-9a5e-75555bb063c5",
   "metadata": {},
   "outputs": [
    {
     "data": {
      "text/html": [
       "<div>\n",
       "<style scoped>\n",
       "    .dataframe tbody tr th:only-of-type {\n",
       "        vertical-align: middle;\n",
       "    }\n",
       "\n",
       "    .dataframe tbody tr th {\n",
       "        vertical-align: top;\n",
       "    }\n",
       "\n",
       "    .dataframe thead th {\n",
       "        text-align: right;\n",
       "    }\n",
       "</style>\n",
       "<table border=\"1\" class=\"dataframe\">\n",
       "  <thead>\n",
       "    <tr style=\"text-align: right;\">\n",
       "      <th></th>\n",
       "      <th>symbol</th>\n",
       "      <th>url</th>\n",
       "    </tr>\n",
       "  </thead>\n",
       "  <tbody>\n",
       "    <tr>\n",
       "      <th>0</th>\n",
       "      <td>DXY</td>\n",
       "      <td>https://www.forecasts.org/dollar-forecast.htm</td>\n",
       "    </tr>\n",
       "    <tr>\n",
       "      <th>1</th>\n",
       "      <td>US10Y</td>\n",
       "      <td>https://www.forecasts.org/10yrT.htm</td>\n",
       "    </tr>\n",
       "    <tr>\n",
       "      <th>2</th>\n",
       "      <td>USIR</td>\n",
       "      <td>https://www.forecasts.org/inflation.htm</td>\n",
       "    </tr>\n",
       "    <tr>\n",
       "      <th>3</th>\n",
       "      <td>SPX</td>\n",
       "      <td>https://www.forecasts.org/stpoor.htm</td>\n",
       "    </tr>\n",
       "  </tbody>\n",
       "</table>\n",
       "</div>"
      ],
      "text/plain": [
       "  symbol                                            url\n",
       "0    DXY  https://www.forecasts.org/dollar-forecast.htm\n",
       "1  US10Y            https://www.forecasts.org/10yrT.htm\n",
       "2   USIR        https://www.forecasts.org/inflation.htm\n",
       "3    SPX           https://www.forecasts.org/stpoor.htm"
      ]
     },
     "metadata": {},
     "output_type": "display_data"
    }
   ],
   "source": [
    "import sqlite3\n",
    "import pandas as pd\n",
    "\n",
    "# Conectar ao banco de dados SQLite\n",
    "conn = sqlite3.connect(\"sqforecasts.db\")\n",
    "\n",
    "# Criar a consulta SQL\n",
    "query = \"SELECT symbol, url FROM tbtitulos\"\n",
    "\n",
    "# Criar o DataFrame com os dados da consulta\n",
    "dftitulos = pd.read_sql(query, conn)\n",
    "\n",
    "# Fechar a conexão\n",
    "conn.close()\n",
    "\n",
    "# Exibir o DataFrame\n",
    "display(dftitulos)"
   ]
  },
  {
   "cell_type": "code",
   "execution_count": 95,
   "id": "be8bfd4b-38b0-4219-9fd7-1d799a568e2e",
   "metadata": {},
   "outputs": [
    {
     "name": "stdout",
     "output_type": "stream",
     "text": [
      "https://www.forecasts.org/dollar-forecast.htm\n"
     ]
    }
   ],
   "source": [
    "url= str(dftitulos.iloc[0]['url'])\n",
    "print(url)"
   ]
  },
  {
   "cell_type": "code",
   "execution_count": 97,
   "id": "48d711f1-2198-4e76-8d40-eba11b978740",
   "metadata": {},
   "outputs": [
    {
     "data": {
      "text/plain": [
       "'SPX'"
      ]
     },
     "metadata": {},
     "output_type": "display_data"
    },
    {
     "data": {
      "text/plain": [
       "'Última atualização: 2025-05-02 00:00:00'"
      ]
     },
     "metadata": {},
     "output_type": "display_data"
    },
    {
     "data": {
      "text/html": [
       "<div>\n",
       "<style scoped>\n",
       "    .dataframe tbody tr th:only-of-type {\n",
       "        vertical-align: middle;\n",
       "    }\n",
       "\n",
       "    .dataframe tbody tr th {\n",
       "        vertical-align: top;\n",
       "    }\n",
       "\n",
       "    .dataframe thead th {\n",
       "        text-align: right;\n",
       "    }\n",
       "</style>\n",
       "<table border=\"1\" class=\"dataframe\">\n",
       "  <thead>\n",
       "    <tr style=\"text-align: right;\">\n",
       "      <th></th>\n",
       "      <th>Month</th>\n",
       "      <th>Date</th>\n",
       "      <th>Forecast Value</th>\n",
       "      <th>Avg Error</th>\n",
       "    </tr>\n",
       "  </thead>\n",
       "  <tbody>\n",
       "    <tr>\n",
       "      <th>0</th>\n",
       "      <td>Apr 2025</td>\n",
       "      <td>2025-04-01</td>\n",
       "      <td>5358.77</td>\n",
       "      <td>0.0</td>\n",
       "    </tr>\n",
       "    <tr>\n",
       "      <th>1</th>\n",
       "      <td>May 2025</td>\n",
       "      <td>2025-05-01</td>\n",
       "      <td>5539.00</td>\n",
       "      <td>52.0</td>\n",
       "    </tr>\n",
       "    <tr>\n",
       "      <th>2</th>\n",
       "      <td>Jun 2025</td>\n",
       "      <td>2025-06-01</td>\n",
       "      <td>5211.00</td>\n",
       "      <td>59.6</td>\n",
       "    </tr>\n",
       "    <tr>\n",
       "      <th>3</th>\n",
       "      <td>Jul 2025</td>\n",
       "      <td>2025-07-01</td>\n",
       "      <td>5290.00</td>\n",
       "      <td>64.1</td>\n",
       "    </tr>\n",
       "    <tr>\n",
       "      <th>4</th>\n",
       "      <td>Aug 2025</td>\n",
       "      <td>2025-08-01</td>\n",
       "      <td>5088.00</td>\n",
       "      <td>67.2</td>\n",
       "    </tr>\n",
       "    <tr>\n",
       "      <th>5</th>\n",
       "      <td>Sep 2025</td>\n",
       "      <td>2025-09-01</td>\n",
       "      <td>5248.00</td>\n",
       "      <td>69.7</td>\n",
       "    </tr>\n",
       "    <tr>\n",
       "      <th>6</th>\n",
       "      <td>Oct 2025</td>\n",
       "      <td>2025-10-01</td>\n",
       "      <td>5338.00</td>\n",
       "      <td>71.7</td>\n",
       "    </tr>\n",
       "    <tr>\n",
       "      <th>7</th>\n",
       "      <td>Nov 2025</td>\n",
       "      <td>2025-11-01</td>\n",
       "      <td>5473.00</td>\n",
       "      <td>73.4</td>\n",
       "    </tr>\n",
       "    <tr>\n",
       "      <th>8</th>\n",
       "      <td>Dec 2025</td>\n",
       "      <td>2025-12-01</td>\n",
       "      <td>5578.00</td>\n",
       "      <td>74.9</td>\n",
       "    </tr>\n",
       "  </tbody>\n",
       "</table>\n",
       "</div>"
      ],
      "text/plain": [
       "      Month       Date  Forecast Value  Avg Error\n",
       "0  Apr 2025 2025-04-01         5358.77        0.0\n",
       "1  May 2025 2025-05-01         5539.00       52.0\n",
       "2  Jun 2025 2025-06-01         5211.00       59.6\n",
       "3  Jul 2025 2025-07-01         5290.00       64.1\n",
       "4  Aug 2025 2025-08-01         5088.00       67.2\n",
       "5  Sep 2025 2025-09-01         5248.00       69.7\n",
       "6  Oct 2025 2025-10-01         5338.00       71.7\n",
       "7  Nov 2025 2025-11-01         5473.00       73.4\n",
       "8  Dec 2025 2025-12-01         5578.00       74.9"
      ]
     },
     "metadata": {},
     "output_type": "display_data"
    }
   ],
   "source": [
    "import requests\n",
    "import pandas as pd\n",
    "from bs4 import BeautifulSoup\n",
    "\n",
    "# URL da página de previsão do U.S. Dollar Index\n",
    "\n",
    "\n",
    "# Função para obter os dados do índice\n",
    "def get_fore_dados(url,symbol):\n",
    "    # Fazer a requisição HTTP para a página\n",
    "    response = requests.get(url)\n",
    "    response.raise_for_status()  # Verifica se houve erro na requisição\n",
    "\n",
    "    # Criar o objeto BeautifulSoup para processar o HTML\n",
    "    soup = BeautifulSoup(response.text, \"html.parser\")\n",
    "\n",
    "    # Localizar a tabela pelo ID (caso tenha um identificador)\n",
    "    table = soup.find(\"table\", {\"id\": \"forecast\"})\n",
    "    \n",
    "    # Extrair todas as linhas da tabela\n",
    "    rows = table.find_all(\"tr\")[1:]  # Ignora o cabeçalho\n",
    "\n",
    "    # Criar lista para armazenar os dados extraídos\n",
    "    data_list = []\n",
    "    \n",
    "    for row in rows:\n",
    "        cols = row.find_all(\"td\")\n",
    "        month = cols[1].text.strip()\n",
    "        date = pd.to_datetime(month)  # Convertendo a string para uma data válida\n",
    "        forecast_value = float(cols[2].text.strip())\n",
    "        avg_error = float(cols[3].text.replace(\"±\", \"\").strip())\n",
    "\n",
    "        data_list.append([month, date, forecast_value, avg_error])\n",
    "\n",
    "    # Criar DataFrame\n",
    "    df_forecasts_scrap = pd.DataFrame(data_list, columns=[\"Month\", \"Date\", \"Forecast Value\", \"Avg Error\"])\n",
    "\n",
    "    # --- Capturar a data de atualização ---\n",
    "    updated_text = soup.find(\"time\").text.strip()\n",
    "    updated_date = pd.to_datetime(updated_text.replace(\"Updated: \", \"\"))  # Converter para formato datetime\n",
    "\n",
    "    return df_forecasts_scrap, updated_date, symbol\n",
    "\n",
    "\n",
    "url = str(dftitulos.iloc[3]['url'])\n",
    "symbol = str(dftitulos.iloc[3]['symbol'])\n",
    "\n",
    "# Chamar a função para obter os dados\n",
    "df_forecasts_scrap, last_updated, symbol = get_fore_dados(url,symbol)\n",
    "\n",
    "# Exibir os dados\n",
    "display(symbol)\n",
    "display(f\"Última atualização: {last_updated}\")\n",
    "display(df_forecasts_scrap)\n"
   ]
  },
  {
   "cell_type": "code",
   "execution_count": 99,
   "id": "074f0684-ea34-4ddf-93d7-f742a3246c3e",
   "metadata": {},
   "outputs": [
    {
     "name": "stdout",
     "output_type": "stream",
     "text": [
      "SPX2025-05-02 00:00:00\n"
     ]
    }
   ],
   "source": [
    "unicidade = symbol + str(last_updated)\n",
    "print (unicidade)"
   ]
  },
  {
   "cell_type": "code",
   "execution_count": 103,
   "id": "935b7f34-f3eb-4313-a5ea-b8e21acc285e",
   "metadata": {},
   "outputs": [
    {
     "ename": "OperationalError",
     "evalue": "database is locked",
     "output_type": "error",
     "traceback": [
      "\u001b[1;31m---------------------------------------------------------------------------\u001b[0m",
      "\u001b[1;31mOperationalError\u001b[0m                          Traceback (most recent call last)",
      "Cell \u001b[1;32mIn[103], line 10\u001b[0m\n\u001b[0;32m      8\u001b[0m \u001b[38;5;28;01mtry\u001b[39;00m:\n\u001b[0;32m      9\u001b[0m     query \u001b[38;5;241m=\u001b[39m \u001b[38;5;124m\"\u001b[39m\u001b[38;5;124mINSERT INTO tbforecasts (symbol, data, unicidade) VALUES (?, ?, ?)\u001b[39m\u001b[38;5;124m\"\u001b[39m\n\u001b[1;32m---> 10\u001b[0m     cursor\u001b[38;5;241m.\u001b[39mexecute(query, (symbol, \u001b[38;5;28mstr\u001b[39m(last_updated), unicidade))\n\u001b[0;32m     11\u001b[0m     conn\u001b[38;5;241m.\u001b[39mcommit()\n\u001b[0;32m     12\u001b[0m     \u001b[38;5;28mprint\u001b[39m(\u001b[38;5;124m\"\u001b[39m\u001b[38;5;124mDados inseridos com sucesso na tabela tbforecasts!\u001b[39m\u001b[38;5;124m\"\u001b[39m)\n",
      "\u001b[1;31mOperationalError\u001b[0m: database is locked"
     ]
    }
   ],
   "source": [
    "import sqlite3\n",
    "\n",
    "# Conectar ao banco de dados SQLite\n",
    "conn = sqlite3.connect(\"sqforecasts.db\")\n",
    "cursor = conn.cursor()\n",
    "\n",
    "# Tentar inserir os dados na tabela, capturando possíveis erros\n",
    "try:\n",
    "    query = \"INSERT INTO tbforecasts (symbol, data, unicidade) VALUES (?, ?, ?)\"\n",
    "    cursor.execute(query, (symbol, str(last_updated), unicidade))\n",
    "    conn.commit()\n",
    "    print(\"Dados inseridos com sucesso na tabela tbforecasts!\")\n",
    "except sqlite3.IntegrityError:\n",
    "    print(\"Esta atualização já existe no banco de dados.\")\n",
    "\n",
    "# Fechar a conexão\n",
    "conn.close()"
   ]
  },
  {
   "cell_type": "code",
   "execution_count": 91,
   "id": "e4e86c11-28af-47ed-bdcc-bcf82488ae8c",
   "metadata": {},
   "outputs": [
    {
     "ename": "OperationalError",
     "evalue": "cannot change into wal mode from within a transaction",
     "output_type": "error",
     "traceback": [
      "\u001b[1;31m---------------------------------------------------------------------------\u001b[0m",
      "\u001b[1;31mOperationalError\u001b[0m                          Traceback (most recent call last)",
      "Cell \u001b[1;32mIn[91], line 1\u001b[0m\n\u001b[1;32m----> 1\u001b[0m conn\u001b[38;5;241m.\u001b[39mexecute(\u001b[38;5;124m\"\u001b[39m\u001b[38;5;124mPRAGMA journal_mode=WAL;\u001b[39m\u001b[38;5;124m\"\u001b[39m)\n",
      "\u001b[1;31mOperationalError\u001b[0m: cannot change into wal mode from within a transaction"
     ]
    }
   ],
   "source": [
    "conn.execute(\"PRAGMA journal_mode=WAL;\")"
   ]
  },
  {
   "cell_type": "code",
   "execution_count": null,
   "id": "26dd3ec4-3cd5-44f3-bb95-91e2620196d8",
   "metadata": {},
   "outputs": [],
   "source": []
  },
  {
   "cell_type": "code",
   "execution_count": 15,
   "id": "08055714-d654-494a-b029-6b7a44a32fd6",
   "metadata": {},
   "outputs": [
    {
     "name": "stdout",
     "output_type": "stream",
     "text": [
      "Novo registro adicionado em tbforecasts com id_forecasts = 1\n",
      "Registros adicionados na tabela tbforecastsdados para id_forecasts = 1\n",
      "Dados exportados com sucesso para o banco de dados SQLite!\n"
     ]
    }
   ],
   "source": [
    "import sqlite3\n",
    "import pandas as pd\n",
    "\n",
    "# Conectar ao banco de dados SQLite\n",
    "conn = sqlite3.connect(\"sqforecasts.db\")\n",
    "cursor = conn.cursor()\n",
    "\n",
    "# --- Passo 1: Inserir na tabela tbforecasts ---\n",
    "cursor.execute(\"\"\"\n",
    "    INSERT INTO tbforecasts (symbol, data, descripzao) \n",
    "    VALUES (?, ?, ?)\n",
    "\"\"\", (\"DXY\", str(last_updated), \"Previsão do U.S. Dollar Index (DXY)\"))\n",
    "\n",
    "# Obter o ID gerado automaticamente\n",
    "id_forecasts = cursor.lastrowid\n",
    "\n",
    "print(f\"Novo registro adicionado em tbforecasts com id_forecasts = {id_forecasts}\")\n",
    "\n",
    "# --- Passo 2: Inserir os dados do df_dxy na tabela tbforecastsdados ---\n",
    "for _, row in df_dxy.iterrows():\n",
    "    cursor.execute(\"\"\"\n",
    "        INSERT INTO tbforecastsdados (id_forecasts, data, value, error) \n",
    "        VALUES (?, ?, ?, ?)\n",
    "    \"\"\", (id_forecasts, str(row[\"Date\"]), row[\"Forecast Value\"], row[\"Avg Error\"]))\n",
    "\n",
    "print(f\"Registros adicionados na tabela tbforecastsdados para id_forecasts = {id_forecasts}\")\n",
    "\n",
    "# Confirmar as alterações e fechar conexão\n",
    "conn.commit()\n",
    "conn.close()\n",
    "\n",
    "print(\"Dados exportados com sucesso para o banco de dados SQLite!\")"
   ]
  },
  {
   "cell_type": "code",
   "execution_count": null,
   "id": "97bfefd1-68c3-43ce-a92f-65a7c0b215ea",
   "metadata": {},
   "outputs": [],
   "source": []
  },
  {
   "cell_type": "markdown",
   "id": "46d33605-9f12-44a0-ae11-532c5fc154f7",
   "metadata": {},
   "source": [
    "Bono 10 y"
   ]
  },
  {
   "cell_type": "code",
   "execution_count": 10,
   "id": "2b067fb6-355c-49e7-8719-85d9693fbe65",
   "metadata": {},
   "outputs": [
    {
     "name": "stdout",
     "output_type": "stream",
     "text": [
      "Nenhuma atualização nova encontrada.\n"
     ]
    }
   ],
   "source": [
    "import requests\n",
    "import pandas as pd\n",
    "from bs4 import BeautifulSoup\n",
    "import os\n",
    "\n",
    "# URL da página de previsão dos Treasury Yields\n",
    "url = \"https://www.forecasts.org/10yrT.htm\"\n",
    "\n",
    "# Arquivo para armazenar a última atualização\n",
    "UPDATE_FILE = \"last_update.txt\"\n",
    "\n",
    "# Função para obter os dados da tabela\n",
    "def get_treasury_data():\n",
    "    # Fazer requisição HTTP para obter o conteúdo da página\n",
    "    response = requests.get(url)\n",
    "    response.raise_for_status()  # Verifica se houve erro na requisição\n",
    "\n",
    "    # Processar o HTML com BeautifulSoup\n",
    "    soup = BeautifulSoup(response.text, \"html.parser\")\n",
    "\n",
    "    # Localizar a tabela pelo ID \"forecast\"\n",
    "    table = soup.find(\"table\", {\"id\": \"forecast\"})\n",
    "    rows = table.find_all(\"tr\")[1:]  # Ignorar cabeçalho\n",
    "\n",
    "    # Criar lista para armazenar os dados extraídos\n",
    "    data_list = []\n",
    "\n",
    "    for row in rows:\n",
    "        cols = row.find_all(\"td\")\n",
    "        month = cols[1].text.strip()\n",
    "        date = pd.to_datetime(month)  # Converter para formato datetime\n",
    "        forecast_value = float(cols[2].text.strip())\n",
    "        avg_error = float(cols[3].text.replace(\"±\", \"\").strip())\n",
    "\n",
    "        data_list.append([month, date, forecast_value, avg_error])\n",
    "\n",
    "    # Criar DataFrame\n",
    "    df_treasury = pd.DataFrame(data_list, columns=[\"Month\", \"Date\", \"Forecast Value\", \"Avg Error\"])\n",
    "\n",
    "    # Capturar a data de atualização\n",
    "    updated_text = soup.find(\"time\").text.strip()\n",
    "    updated_date = pd.to_datetime(updated_text.replace(\"Updated: \", \"\"))  # Converter para formato datetime\n",
    "\n",
    "    return df_treasury, updated_date\n",
    "\n",
    "# Função para verificar e salvar atualização\n",
    "def check_for_update():\n",
    "    df_treasury, last_updated = get_treasury_data()\n",
    "\n",
    "    # Verificar se há um arquivo de última atualização salvo\n",
    "    if os.path.exists(UPDATE_FILE):\n",
    "        with open(UPDATE_FILE, \"r\") as file:\n",
    "            last_saved_date = pd.to_datetime(file.read().strip())\n",
    "\n",
    "        # Se houver uma nova atualização, salvar novo CSV e atualizar o arquivo de controle\n",
    "        if last_updated > last_saved_date:\n",
    "            print(f\"Nova atualização encontrada em {last_updated}! Salvando dados...\")\n",
    "            df_treasury.to_csv(\"treasury_forecast.csv\", index=False)\n",
    "\n",
    "            with open(UPDATE_FILE, \"w\") as file:\n",
    "                file.write(str(last_updated))\n",
    "        else:\n",
    "            print(\"Nenhuma atualização nova encontrada.\")\n",
    "    else:\n",
    "        # Primeira execução - salvar a data\n",
    "        with open(UPDATE_FILE, \"w\") as file:\n",
    "            file.write(str(last_updated))\n",
    "        print(\"Primeira execução do script. Criando CSV inicial.\")\n",
    "        df_treasury.to_csv(\"treasury_forecast.csv\", index=False)\n",
    "\n",
    "# Executar a verificação automática\n",
    "check_for_update()"
   ]
  },
  {
   "cell_type": "code",
   "execution_count": null,
   "id": "1e5c4454-264d-4d7b-bcc4-1d26a188c47e",
   "metadata": {},
   "outputs": [],
   "source": []
  }
 ],
 "metadata": {
  "kernelspec": {
   "display_name": "Python [conda env:base] *",
   "language": "python",
   "name": "conda-base-py"
  },
  "language_info": {
   "codemirror_mode": {
    "name": "ipython",
    "version": 3
   },
   "file_extension": ".py",
   "mimetype": "text/x-python",
   "name": "python",
   "nbconvert_exporter": "python",
   "pygments_lexer": "ipython3",
   "version": "3.12.3"
  }
 },
 "nbformat": 4,
 "nbformat_minor": 5
}
