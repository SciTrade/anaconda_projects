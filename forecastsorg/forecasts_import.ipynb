{
 "cells": [
  {
   "cell_type": "markdown",
   "id": "40fce9b4-51d8-477d-8bd3-22c4c7cdbca1",
   "metadata": {},
   "source": [
    "Face web scraping do forecasts de DXY da pagina  https://www.forecasts.org/dollar-forecast.htm"
   ]
  },
  {
   "cell_type": "markdown",
   "id": "4a003358-5da5-47d3-8b69-7c6a11207489",
   "metadata": {},
   "source": [
    "gera df con os títulos ao consultar (symbol , url)"
   ]
  },
  {
   "cell_type": "code",
   "execution_count": 1,
   "id": "003510dd-a37c-4913-9a5e-75555bb063c5",
   "metadata": {},
   "outputs": [
    {
     "data": {
      "text/html": [
       "<div>\n",
       "<style scoped>\n",
       "    .dataframe tbody tr th:only-of-type {\n",
       "        vertical-align: middle;\n",
       "    }\n",
       "\n",
       "    .dataframe tbody tr th {\n",
       "        vertical-align: top;\n",
       "    }\n",
       "\n",
       "    .dataframe thead th {\n",
       "        text-align: right;\n",
       "    }\n",
       "</style>\n",
       "<table border=\"1\" class=\"dataframe\">\n",
       "  <thead>\n",
       "    <tr style=\"text-align: right;\">\n",
       "      <th></th>\n",
       "      <th>symbol</th>\n",
       "      <th>url</th>\n",
       "    </tr>\n",
       "  </thead>\n",
       "  <tbody>\n",
       "    <tr>\n",
       "      <th>0</th>\n",
       "      <td>DXY</td>\n",
       "      <td>https://www.forecasts.org/dollar-forecast.htm</td>\n",
       "    </tr>\n",
       "    <tr>\n",
       "      <th>1</th>\n",
       "      <td>US10Y</td>\n",
       "      <td>https://www.forecasts.org/10yrT.htm</td>\n",
       "    </tr>\n",
       "    <tr>\n",
       "      <th>2</th>\n",
       "      <td>USIR</td>\n",
       "      <td>https://www.forecasts.org/inflation.htm</td>\n",
       "    </tr>\n",
       "    <tr>\n",
       "      <th>3</th>\n",
       "      <td>SPX</td>\n",
       "      <td>https://www.forecasts.org/stpoor.htm</td>\n",
       "    </tr>\n",
       "  </tbody>\n",
       "</table>\n",
       "</div>"
      ],
      "text/plain": [
       "  symbol                                            url\n",
       "0    DXY  https://www.forecasts.org/dollar-forecast.htm\n",
       "1  US10Y            https://www.forecasts.org/10yrT.htm\n",
       "2   USIR        https://www.forecasts.org/inflation.htm\n",
       "3    SPX           https://www.forecasts.org/stpoor.htm"
      ]
     },
     "metadata": {},
     "output_type": "display_data"
    }
   ],
   "source": [
    "import sqlite3\n",
    "import pandas as pd\n",
    "\n",
    "# Conectar ao banco de dados SQLite\n",
    "conn = sqlite3.connect(\"sqforecasts.db\")\n",
    "\n",
    "# Criar a consulta SQL\n",
    "query = \"SELECT symbol, url FROM tbtitulos\"\n",
    "\n",
    "# Criar o DataFrame com os dados da consulta\n",
    "dftitulos = pd.read_sql(query, conn)\n",
    "\n",
    "# Fechar a conexão\n",
    "conn.close()\n",
    "\n",
    "# Exibir o DataFrame\n",
    "display(dftitulos)"
   ]
  },
  {
   "cell_type": "code",
   "execution_count": 3,
   "id": "be8bfd4b-38b0-4219-9fd7-1d799a568e2e",
   "metadata": {},
   "outputs": [
    {
     "name": "stdout",
     "output_type": "stream",
     "text": [
      "https://www.forecasts.org/dollar-forecast.htm\n"
     ]
    }
   ],
   "source": [
    "url= str(dftitulos.iloc[0]['url'])\n",
    "print(url)"
   ]
  },
  {
   "cell_type": "code",
   "execution_count": 5,
   "id": "48d711f1-2198-4e76-8d40-eba11b978740",
   "metadata": {},
   "outputs": [
    {
     "data": {
      "text/plain": [
       "'USIR'"
      ]
     },
     "metadata": {},
     "output_type": "display_data"
    },
    {
     "data": {
      "text/plain": [
       "'Última atualização: 2025-04-11 00:00:00'"
      ]
     },
     "metadata": {},
     "output_type": "display_data"
    },
    {
     "data": {
      "text/html": [
       "<div>\n",
       "<style scoped>\n",
       "    .dataframe tbody tr th:only-of-type {\n",
       "        vertical-align: middle;\n",
       "    }\n",
       "\n",
       "    .dataframe tbody tr th {\n",
       "        vertical-align: top;\n",
       "    }\n",
       "\n",
       "    .dataframe thead th {\n",
       "        text-align: right;\n",
       "    }\n",
       "</style>\n",
       "<table border=\"1\" class=\"dataframe\">\n",
       "  <thead>\n",
       "    <tr style=\"text-align: right;\">\n",
       "      <th></th>\n",
       "      <th>Month</th>\n",
       "      <th>Date</th>\n",
       "      <th>Forecast Value</th>\n",
       "      <th>Avg Error</th>\n",
       "    </tr>\n",
       "  </thead>\n",
       "  <tbody>\n",
       "    <tr>\n",
       "      <th>0</th>\n",
       "      <td>Mar 2025</td>\n",
       "      <td>2025-03-01</td>\n",
       "      <td>2.39</td>\n",
       "      <td>0.000</td>\n",
       "    </tr>\n",
       "    <tr>\n",
       "      <th>1</th>\n",
       "      <td>Apr 2025</td>\n",
       "      <td>2025-04-01</td>\n",
       "      <td>2.09</td>\n",
       "      <td>0.082</td>\n",
       "    </tr>\n",
       "    <tr>\n",
       "      <th>2</th>\n",
       "      <td>May 2025</td>\n",
       "      <td>2025-05-01</td>\n",
       "      <td>1.81</td>\n",
       "      <td>0.100</td>\n",
       "    </tr>\n",
       "    <tr>\n",
       "      <th>3</th>\n",
       "      <td>Jun 2025</td>\n",
       "      <td>2025-06-01</td>\n",
       "      <td>1.71</td>\n",
       "      <td>0.120</td>\n",
       "    </tr>\n",
       "    <tr>\n",
       "      <th>4</th>\n",
       "      <td>Jul 2025</td>\n",
       "      <td>2025-07-01</td>\n",
       "      <td>1.49</td>\n",
       "      <td>0.130</td>\n",
       "    </tr>\n",
       "    <tr>\n",
       "      <th>5</th>\n",
       "      <td>Aug 2025</td>\n",
       "      <td>2025-08-01</td>\n",
       "      <td>1.58</td>\n",
       "      <td>0.140</td>\n",
       "    </tr>\n",
       "    <tr>\n",
       "      <th>6</th>\n",
       "      <td>Sep 2025</td>\n",
       "      <td>2025-09-01</td>\n",
       "      <td>1.57</td>\n",
       "      <td>0.140</td>\n",
       "    </tr>\n",
       "    <tr>\n",
       "      <th>7</th>\n",
       "      <td>Oct 2025</td>\n",
       "      <td>2025-10-01</td>\n",
       "      <td>1.64</td>\n",
       "      <td>0.150</td>\n",
       "    </tr>\n",
       "    <tr>\n",
       "      <th>8</th>\n",
       "      <td>Nov 2025</td>\n",
       "      <td>2025-11-01</td>\n",
       "      <td>1.66</td>\n",
       "      <td>0.150</td>\n",
       "    </tr>\n",
       "  </tbody>\n",
       "</table>\n",
       "</div>"
      ],
      "text/plain": [
       "      Month       Date  Forecast Value  Avg Error\n",
       "0  Mar 2025 2025-03-01            2.39      0.000\n",
       "1  Apr 2025 2025-04-01            2.09      0.082\n",
       "2  May 2025 2025-05-01            1.81      0.100\n",
       "3  Jun 2025 2025-06-01            1.71      0.120\n",
       "4  Jul 2025 2025-07-01            1.49      0.130\n",
       "5  Aug 2025 2025-08-01            1.58      0.140\n",
       "6  Sep 2025 2025-09-01            1.57      0.140\n",
       "7  Oct 2025 2025-10-01            1.64      0.150\n",
       "8  Nov 2025 2025-11-01            1.66      0.150"
      ]
     },
     "metadata": {},
     "output_type": "display_data"
    }
   ],
   "source": [
    "import requests\n",
    "import pandas as pd\n",
    "from bs4 import BeautifulSoup\n",
    "\n",
    "# URL da página de previsão do U.S. Dollar Index\n",
    "\n",
    "\n",
    "# Função para obter os dados do índice\n",
    "def get_fore_dados(url,symbol):\n",
    "    # Fazer a requisição HTTP para a página\n",
    "    response = requests.get(url)\n",
    "    response.raise_for_status()  # Verifica se houve erro na requisição\n",
    "\n",
    "    # Criar o objeto BeautifulSoup para processar o HTML\n",
    "    soup = BeautifulSoup(response.text, \"html.parser\")\n",
    "\n",
    "    # Localizar a tabela pelo ID (caso tenha um identificador)\n",
    "    table = soup.find(\"table\", {\"id\": \"forecast\"})\n",
    "    \n",
    "    # Extrair todas as linhas da tabela\n",
    "    rows = table.find_all(\"tr\")[1:]  # Ignora o cabeçalho\n",
    "\n",
    "    # Criar lista para armazenar os dados extraídos\n",
    "    data_list = []\n",
    "    \n",
    "    for row in rows:\n",
    "        cols = row.find_all(\"td\")\n",
    "        month = cols[1].text.strip()\n",
    "        date = pd.to_datetime(month)  # Convertendo a string para uma data válida\n",
    "        forecast_value = float(cols[2].text.strip())\n",
    "        avg_error = float(cols[3].text.replace(\"±\", \"\").strip())\n",
    "\n",
    "        data_list.append([month, date, forecast_value, avg_error])\n",
    "\n",
    "    # Criar DataFrame\n",
    "    df_forecasts_scrap = pd.DataFrame(data_list, columns=[\"Month\", \"Date\", \"Forecast Value\", \"Avg Error\"])\n",
    "\n",
    "    # --- Capturar a data de atualização ---\n",
    "    updated_text = soup.find(\"time\").text.strip()\n",
    "    updated_date = pd.to_datetime(updated_text.replace(\"Updated: \", \"\"))  # Converter para formato datetime\n",
    "\n",
    "    return df_forecasts_scrap, updated_date, symbol\n",
    "\n",
    "\n",
    "url = str(dftitulos.iloc[2]['url'])\n",
    "symbol = str(dftitulos.iloc[2]['symbol'])\n",
    "\n",
    "# Chamar a função para obter os dados\n",
    "df_forecasts_scrap, last_updated, symbol = get_fore_dados(url,symbol)\n",
    "\n",
    "# Exibir os dados\n",
    "display(symbol)\n",
    "display(f\"Última atualização: {last_updated}\")\n",
    "display(df_forecasts_scrap)\n"
   ]
  },
  {
   "cell_type": "code",
   "execution_count": 7,
   "id": "dd52408e-822f-463c-b5ac-b5c5f55c5908",
   "metadata": {},
   "outputs": [
    {
     "name": "stdout",
     "output_type": "stream",
     "text": [
      "Novo registro inserido com id_forecasts: 2\n"
     ]
    }
   ],
   "source": [
    "import sqlite3\n",
    "\n",
    "# Conectar ao banco de dados\n",
    "conn = sqlite3.connect('sqforecasts.db')\n",
    "cursor = conn.cursor()\n",
    "\n",
    "# Verificar se já existe um registro com os valores na coluna symbol\n",
    "cursor.execute(\"SELECT id_forecasts FROM tbforecasts WHERE symbol = ? AND data = ?\", (symbol, str(last_updated)))\n",
    "result = cursor.fetchone()\n",
    "\n",
    "if result:\n",
    "    print(\"A atualização já existe.\")\n",
    "    id_forecasts_insert = result[0]\n",
    "else:\n",
    "    # Inserir novo registro com valores corretos\n",
    "    cursor.execute(\"INSERT INTO tbforecasts (symbol, data) VALUES (?, ?)\", (symbol, str(last_updated)))\n",
    "    conn.commit()\n",
    "    \n",
    "    # Obter o ID do registro recém-inserido\n",
    "    id_forecasts_insert = cursor.lastrowid\n",
    "    print(f\"Novo registro inserido com id_forecasts: {id_forecasts_insert}\")\n",
    "\n",
    "# Fechar conexão\n",
    "conn.close()"
   ]
  },
  {
   "cell_type": "code",
   "execution_count": 13,
   "id": "0fde8b19-7dc1-4369-8044-6c7e4438de69",
   "metadata": {},
   "outputs": [
    {
     "name": "stdout",
     "output_type": "stream",
     "text": [
      "Dados inseridos com sucesso!\n"
     ]
    }
   ],
   "source": [
    "import sqlite3\n",
    "import pandas as pd\n",
    "\n",
    "# Nome do banco de dados SQLite\n",
    "db_path = \"sqforecasts.db\"\n",
    "\n",
    "df_forecasts_scrap = df_forecasts_scrap.drop(columns=[\"Month\"], errors=\"ignore\")  # Remove 'Month' se existir\n",
    "\n",
    "# Renomeando colunas para coincidir com a tabela no banco de dados\n",
    "df_forecasts_scrap.rename(columns={\"Date\": \"data\", \"Forecast Value\": \"value\", \"Avg Error\": \"error\"}, inplace=True)\n",
    "\n",
    "# Adicionando a coluna id_forecasts\n",
    "df_forecasts_scrap[\"id_forecasts\"] = id_forecasts_insert\n",
    "\n",
    "# Conectar ao banco SQLite\n",
    "conn = sqlite3.connect(db_path)\n",
    "cursor = conn.cursor()\n",
    "\n",
    "# Inserindo os dados na tabela\n",
    "df_forecasts_scrap.to_sql(\"tbforecastsdados\", con=conn, if_exists=\"append\", index=False)\n",
    "\n",
    "# Fechar conexão\n",
    "conn.close()\n",
    "\n",
    "print(\"Dados inseridos com sucesso!\")"
   ]
  },
  {
   "cell_type": "code",
   "execution_count": null,
   "id": "d563cedc-1725-4edc-bbb7-ca9af50b689e",
   "metadata": {},
   "outputs": [],
   "source": []
  },
  {
   "cell_type": "code",
   "execution_count": 11,
   "id": "08055714-d654-494a-b029-6b7a44a32fd6",
   "metadata": {},
   "outputs": [
    {
     "name": "stdout",
     "output_type": "stream",
     "text": [
      "None\n"
     ]
    },
    {
     "ename": "IntegrityError",
     "evalue": "NOT NULL constraint failed: tbforecastsdados.id_forecasts",
     "output_type": "error",
     "traceback": [
      "\u001b[1;31m---------------------------------------------------------------------------\u001b[0m",
      "\u001b[1;31mIntegrityError\u001b[0m                            Traceback (most recent call last)",
      "Cell \u001b[1;32mIn[11], line 16\u001b[0m\n\u001b[0;32m     14\u001b[0m \u001b[38;5;66;03m# --- Passo 2: Inserir os dados do df_forecasts_scrap na tabela tbforecastsdados ---\u001b[39;00m\n\u001b[0;32m     15\u001b[0m \u001b[38;5;28;01mfor\u001b[39;00m _, row \u001b[38;5;129;01min\u001b[39;00m df_forecasts_scrap\u001b[38;5;241m.\u001b[39miterrows():\n\u001b[1;32m---> 16\u001b[0m     cursor\u001b[38;5;241m.\u001b[39mexecute(\u001b[38;5;124m\"\"\"\u001b[39m\n\u001b[0;32m     17\u001b[0m \u001b[38;5;124m        INSERT INTO tbforecastsdados (id_forecasts, data, value, error) \u001b[39m\n\u001b[0;32m     18\u001b[0m \u001b[38;5;124m        VALUES (?, ?, ?, ?)\u001b[39m\n\u001b[0;32m     19\u001b[0m \u001b[38;5;124m    \u001b[39m\u001b[38;5;124m\"\"\"\u001b[39m, (id_forecasts, \u001b[38;5;28mstr\u001b[39m(row[\u001b[38;5;124m\"\u001b[39m\u001b[38;5;124mDate\u001b[39m\u001b[38;5;124m\"\u001b[39m]), row[\u001b[38;5;124m\"\u001b[39m\u001b[38;5;124mForecast Value\u001b[39m\u001b[38;5;124m\"\u001b[39m], row[\u001b[38;5;124m\"\u001b[39m\u001b[38;5;124mAvg Error\u001b[39m\u001b[38;5;124m\"\u001b[39m]))\n\u001b[0;32m     21\u001b[0m \u001b[38;5;28mprint\u001b[39m(\u001b[38;5;124mf\u001b[39m\u001b[38;5;124m\"\u001b[39m\u001b[38;5;124mRegistros adicionados na tabela tbforecastsdados para id_forecasts = \u001b[39m\u001b[38;5;132;01m{\u001b[39;00mid_forecasts\u001b[38;5;132;01m}\u001b[39;00m\u001b[38;5;124m\"\u001b[39m)\n\u001b[0;32m     23\u001b[0m \u001b[38;5;66;03m# Confirmar as alterações e fechar conexão\u001b[39;00m\n",
      "\u001b[1;31mIntegrityError\u001b[0m: NOT NULL constraint failed: tbforecastsdados.id_forecasts"
     ]
    }
   ],
   "source": [
    "import sqlite3\n",
    "import pandas as pd\n",
    "\n",
    "# Conectar ao banco de dados SQLite\n",
    "conn = sqlite3.connect(\"sqforecasts.db\")\n",
    "cursor = conn.cursor()\n",
    "\n",
    "\n",
    "# Obter o ID gerado automaticamente\n",
    "id_forecasts = cursor.lastrowid\n",
    "\n",
    "print(id_forecasts)\n",
    "\n",
    "# --- Passo 2: Inserir os dados do df_forecasts_scrap na tabela tbforecastsdados ---\n",
    "for _, row in df_forecasts_scrap.iterrows():\n",
    "    cursor.execute(\"\"\"\n",
    "        INSERT INTO tbforecastsdados (id_forecasts, data, value, error) \n",
    "        VALUES (?, ?, ?, ?)\n",
    "    \"\"\", (id_forecasts, str(row[\"Date\"]), row[\"Forecast Value\"], row[\"Avg Error\"]))\n",
    "\n",
    "print(f\"Registros adicionados na tabela tbforecastsdados para id_forecasts = {id_forecasts}\")\n",
    "\n",
    "# Confirmar as alterações e fechar conexão\n",
    "conn.commit()\n",
    "conn.close()\n",
    "\n",
    "print(\"Dados exportados com sucesso para o banco de dados SQLite!\")"
   ]
  },
  {
   "cell_type": "code",
   "execution_count": null,
   "id": "1704ca65-4280-494e-a689-546eb40cd438",
   "metadata": {},
   "outputs": [],
   "source": []
  },
  {
   "cell_type": "code",
   "execution_count": null,
   "id": "97bfefd1-68c3-43ce-a92f-65a7c0b215ea",
   "metadata": {},
   "outputs": [],
   "source": []
  },
  {
   "cell_type": "markdown",
   "id": "46d33605-9f12-44a0-ae11-532c5fc154f7",
   "metadata": {},
   "source": [
    "Bono 10 y"
   ]
  },
  {
   "cell_type": "code",
   "execution_count": 10,
   "id": "2b067fb6-355c-49e7-8719-85d9693fbe65",
   "metadata": {},
   "outputs": [
    {
     "name": "stdout",
     "output_type": "stream",
     "text": [
      "Nenhuma atualização nova encontrada.\n"
     ]
    }
   ],
   "source": [
    "import requests\n",
    "import pandas as pd\n",
    "from bs4 import BeautifulSoup\n",
    "import os\n",
    "\n",
    "# URL da página de previsão dos Treasury Yields\n",
    "url = \"https://www.forecasts.org/10yrT.htm\"\n",
    "\n",
    "# Arquivo para armazenar a última atualização\n",
    "UPDATE_FILE = \"last_update.txt\"\n",
    "\n",
    "# Função para obter os dados da tabela\n",
    "def get_treasury_data():\n",
    "    # Fazer requisição HTTP para obter o conteúdo da página\n",
    "    response = requests.get(url)\n",
    "    response.raise_for_status()  # Verifica se houve erro na requisição\n",
    "\n",
    "    # Processar o HTML com BeautifulSoup\n",
    "    soup = BeautifulSoup(response.text, \"html.parser\")\n",
    "\n",
    "    # Localizar a tabela pelo ID \"forecast\"\n",
    "    table = soup.find(\"table\", {\"id\": \"forecast\"})\n",
    "    rows = table.find_all(\"tr\")[1:]  # Ignorar cabeçalho\n",
    "\n",
    "    # Criar lista para armazenar os dados extraídos\n",
    "    data_list = []\n",
    "\n",
    "    for row in rows:\n",
    "        cols = row.find_all(\"td\")\n",
    "        month = cols[1].text.strip()\n",
    "        date = pd.to_datetime(month)  # Converter para formato datetime\n",
    "        forecast_value = float(cols[2].text.strip())\n",
    "        avg_error = float(cols[3].text.replace(\"±\", \"\").strip())\n",
    "\n",
    "        data_list.append([month, date, forecast_value, avg_error])\n",
    "\n",
    "    # Criar DataFrame\n",
    "    df_treasury = pd.DataFrame(data_list, columns=[\"Month\", \"Date\", \"Forecast Value\", \"Avg Error\"])\n",
    "\n",
    "    # Capturar a data de atualização\n",
    "    updated_text = soup.find(\"time\").text.strip()\n",
    "    updated_date = pd.to_datetime(updated_text.replace(\"Updated: \", \"\"))  # Converter para formato datetime\n",
    "\n",
    "    return df_treasury, updated_date\n",
    "\n",
    "# Função para verificar e salvar atualização\n",
    "def check_for_update():\n",
    "    df_treasury, last_updated = get_treasury_data()\n",
    "\n",
    "    # Verificar se há um arquivo de última atualização salvo\n",
    "    if os.path.exists(UPDATE_FILE):\n",
    "        with open(UPDATE_FILE, \"r\") as file:\n",
    "            last_saved_date = pd.to_datetime(file.read().strip())\n",
    "\n",
    "        # Se houver uma nova atualização, salvar novo CSV e atualizar o arquivo de controle\n",
    "        if last_updated > last_saved_date:\n",
    "            print(f\"Nova atualização encontrada em {last_updated}! Salvando dados...\")\n",
    "            df_treasury.to_csv(\"treasury_forecast.csv\", index=False)\n",
    "\n",
    "            with open(UPDATE_FILE, \"w\") as file:\n",
    "                file.write(str(last_updated))\n",
    "        else:\n",
    "            print(\"Nenhuma atualização nova encontrada.\")\n",
    "    else:\n",
    "        # Primeira execução - salvar a data\n",
    "        with open(UPDATE_FILE, \"w\") as file:\n",
    "            file.write(str(last_updated))\n",
    "        print(\"Primeira execução do script. Criando CSV inicial.\")\n",
    "        df_treasury.to_csv(\"treasury_forecast.csv\", index=False)\n",
    "\n",
    "# Executar a verificação automática\n",
    "check_for_update()"
   ]
  },
  {
   "cell_type": "code",
   "execution_count": null,
   "id": "1e5c4454-264d-4d7b-bcc4-1d26a188c47e",
   "metadata": {},
   "outputs": [],
   "source": []
  }
 ],
 "metadata": {
  "kernelspec": {
   "display_name": "Python [conda env:base] *",
   "language": "python",
   "name": "conda-base-py"
  },
  "language_info": {
   "codemirror_mode": {
    "name": "ipython",
    "version": 3
   },
   "file_extension": ".py",
   "mimetype": "text/x-python",
   "name": "python",
   "nbconvert_exporter": "python",
   "pygments_lexer": "ipython3",
   "version": "3.12.3"
  }
 },
 "nbformat": 4,
 "nbformat_minor": 5
}
