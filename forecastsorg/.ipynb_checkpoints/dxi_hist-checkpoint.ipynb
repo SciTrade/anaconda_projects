{
 "cells": [
  {
   "cell_type": "code",
   "execution_count": null,
   "id": "6ec719c4-ad53-43a7-884c-812e5c016c6a",
   "metadata": {},
   "outputs": [],
   "source": []
  },
  {
   "cell_type": "code",
   "execution_count": 36,
   "id": "f26ee19b-4ba0-454e-a990-5e6fb0a171fc",
   "metadata": {},
   "outputs": [
    {
     "name": "stdout",
     "output_type": "stream",
     "text": [
      "   symbol       data    valor\n",
      "0     DXY 2020-04-01   99.900\n",
      "1     DXY 2020-05-01   99.570\n",
      "2     DXY 2020-06-01   97.102\n",
      "3     DXY 2020-07-01   95.660\n",
      "4     DXY 2020-08-01   93.056\n",
      "..    ...        ...      ...\n",
      "64    DXY 2025-08-01  104.200\n",
      "65    DXY 2025-09-01  107.420\n",
      "66    DXY 2025-10-01  108.190\n",
      "67    DXY 2025-11-01  106.770\n",
      "68    DXY 2025-12-01  103.830\n",
      "\n",
      "[69 rows x 3 columns]\n"
     ]
    }
   ],
   "source": [
    "import pandas as pd\n",
    "\n",
    "# Ler o arquivo CSV\n",
    "df_raw = pd.read_csv(\"dollar-index-forecast-data.csv\")\n",
    "\n",
    "# Remover a última linha do DataFrame\n",
    "df_raw = df_raw.iloc[:-1]  # Remove a última linha\n",
    "\n",
    "# Normalizar os nomes das colunas (remover espaços extras)\n",
    "df_raw.columns = df_raw.columns.str.strip()\n",
    "\n",
    "# Encontrar a coluna correta para \"Date\"\n",
    "date_column = [col for col in df_raw.columns if \"Date\" in col][0]  # Procura pelo nome correto\n",
    "\n",
    "# Verificar se a coluna \"DXY | Average of Month\" está no DataFrame\n",
    "if \"DXY | Average of Month\" not in df_raw.columns:\n",
    "    possible_col = [col for col in df_raw.columns if \"DXY\" in col][0]  # Tenta encontrar um nome semelhante\n",
    "else:\n",
    "    possible_col = \"DXY | Average of Month\"\n",
    "    \n",
    "df_raw[\"Date\"] = df_raw[\"Date\"].str.strip()  # Remove espaços extras\n",
    "df_raw[\"Date\"] = pd.to_datetime(df_raw[\"Date\"], format=\"%b %Y\", errors=\"coerce\")  # Ajuste o formato conforme necessário\n",
    "\n",
    "# Criar o DataFrame com os campos ajustados\n",
    "df_dxy_hist = pd.DataFrame({\n",
    "    \"symbol\": \"DXY\",\n",
    "    \"data\": pd.to_datetime(df_raw[date_column], errors=\"coerce\"),  # Ajustar formato de data\n",
    "    \n",
    "    \"valor\": df_raw[possible_col].astype(float)  # Converter para float\n",
    "})\n",
    "\n",
    "# Exibir os dados corrigidos\n",
    "print(df_dxy_hist)"
   ]
  },
  {
   "cell_type": "markdown",
   "id": "068a82f6-359e-45bc-8595-2d02e55273ef",
   "metadata": {},
   "source": [
    "import sqlite3\n",
    "\n",
    "# Conectar ao banco de dados SQLite\n",
    "conn = sqlite3.connect(\"sqforecasts.db\")\n",
    "cursor = conn.cursor()\n",
    "\n",
    "# Criar a tabela tbtituloshist\n",
    "cursor.execute(\"\"\"\n",
    "CREATE TABLE IF NOT EXISTS tbtituloshist (\n",
    "    id_tituloshist INTEGER PRIMARY KEY AUTOINCREMENT,\n",
    "    symbol TEXT NOT NULL,\n",
    "    data TEXT NOT NULL,\n",
    "    valor REAL NOT NULL\n",
    ");\n",
    "\"\"\")\n",
    "\n",
    "# Salvar e fechar a conexão\n",
    "conn.commit()\n",
    "conn.close()\n",
    "\n",
    "print(\"Tabela tbtituloshist criada com sucesso!\")"
   ]
  },
  {
   "cell_type": "code",
   "execution_count": 42,
   "id": "9ee86526-66fe-46ec-8bfd-4396cd3c1768",
   "metadata": {},
   "outputs": [
    {
     "name": "stdout",
     "output_type": "stream",
     "text": [
      "Dados exportados com sucesso para a tabela tbtituloshist!\n"
     ]
    }
   ],
   "source": [
    "import sqlite3\n",
    "\n",
    "# Conectar ao banco de dados SQLite\n",
    "conn = sqlite3.connect(\"sqforecasts.db\")\n",
    "cursor = conn.cursor()\n",
    "\n",
    "# Converter a coluna \"data\" do DataFrame para string\n",
    "df_dxy_hist[\"data\"] = df_dxy_hist[\"data\"].astype(str)\n",
    "\n",
    "# Inserir os dados do DataFrame na tabela tbtituloshist\n",
    "for _, row in df_dxy_hist.iterrows():\n",
    "    cursor.execute(\"\"\"\n",
    "        INSERT INTO tbtituloshist (symbol, data, valor) \n",
    "        VALUES (?, ?, ?)\n",
    "    \"\"\", (row[\"symbol\"], row[\"data\"], row[\"valor\"]))\n",
    "\n",
    "# Salvar e fechar conexão\n",
    "conn.commit()\n",
    "conn.close()\n",
    "\n",
    "print(\"Dados exportados com sucesso para a tabela tbtituloshist!\")"
   ]
  },
  {
   "cell_type": "code",
   "execution_count": null,
   "id": "ff3d12b1-8cbe-4b0a-a1d7-ef8fefd95f79",
   "metadata": {},
   "outputs": [],
   "source": []
  }
 ],
 "metadata": {
  "kernelspec": {
   "display_name": "Python [conda env:base] *",
   "language": "python",
   "name": "conda-base-py"
  },
  "language_info": {
   "codemirror_mode": {
    "name": "ipython",
    "version": 3
   },
   "file_extension": ".py",
   "mimetype": "text/x-python",
   "name": "python",
   "nbconvert_exporter": "python",
   "pygments_lexer": "ipython3",
   "version": "3.12.3"
  }
 },
 "nbformat": 4,
 "nbformat_minor": 5
}
