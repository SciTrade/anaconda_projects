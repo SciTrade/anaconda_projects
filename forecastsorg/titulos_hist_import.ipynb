{
 "cells": [
  {
   "cell_type": "markdown",
   "id": "e9d117be-a3d3-4f92-a8d6-6afdb538b218",
   "metadata": {},
   "source": [
    "importa os arquivos csv historicos dos titulos e exporta no bD"
   ]
  },
  {
   "cell_type": "code",
   "execution_count": null,
   "id": "adc53b3e-de3f-4a60-81eb-229316a04b24",
   "metadata": {},
   "outputs": [],
   "source": []
  },
  {
   "cell_type": "code",
   "execution_count": 67,
   "id": "bbdf3d59-bf8b-403b-b672-13669d79df87",
   "metadata": {},
   "outputs": [
    {
     "name": "stdout",
     "output_type": "stream",
     "text": [
      "                   data    valor       Note  id_titulos\n",
      "0   2020-04-01 00:00:00   99.900     Actual           1\n",
      "1   2020-05-01 00:00:00   99.570     Actual           1\n",
      "2   2020-06-01 00:00:00   97.102     Actual           1\n",
      "3   2020-07-01 00:00:00   95.660     Actual           1\n",
      "4   2020-08-01 00:00:00   93.056     Actual           1\n",
      "..                  ...      ...        ...         ...\n",
      "64  2025-08-01 00:00:00  104.200   Forecast           1\n",
      "65  2025-09-01 00:00:00  107.420   Forecast           1\n",
      "66  2025-10-01 00:00:00  108.190   Forecast           1\n",
      "67  2025-11-01 00:00:00  106.770   Forecast           1\n",
      "68  2025-12-01 00:00:00  103.830   Forecast           1\n",
      "\n",
      "[69 rows x 4 columns]\n"
     ]
    }
   ],
   "source": [
    "import pandas as pd\n",
    "\n",
    "# Definir o titulo ao importar\n",
    "id_titulos = 1  # Substitua pelo valor desejado\n",
    "\n",
    "# Ler o arquivo CSV do titulo\n",
    "df = pd.read_csv(\"dollar-index-forecast-data.csv\")\n",
    "# remover a ultima linea\n",
    "df = df.iloc[:-1]\n",
    "#Remover espacios em branco\n",
    "df.iloc[:, 0] = df.iloc[:, 0].str.strip()\n",
    "\n",
    "\n",
    "# Converter a primeira coluna para datetime (supondo que seja no formato 'mmm/yyyy')\n",
    "df.iloc[:, 0] = pd.to_datetime(df.iloc[:, 0],format=\"%b %Y\", errors=\"coerce\")\n",
    "\n",
    "# Renomear a primeira coluna para 'data'\n",
    "df.rename(columns={df.columns[0]: \"data\"}, inplace=True)\n",
    "\n",
    "# Converter a segunda coluna para float e renomeá-la para 'valor'\n",
    "df.iloc[:, 1] = df.iloc[:, 1].astype(float)\n",
    "df.rename(columns={df.columns[1]: \"valor\"}, inplace=True)\n",
    "\n",
    "# Criar a terceira coluna com o valor de id_titulos\n",
    "df[\"id_titulos\"] = id_titulos\n",
    "\n",
    "print(df)"
   ]
  },
  {
   "cell_type": "code",
   "execution_count": 69,
   "id": "822ec78b-4f65-4847-80f7-2644b214146a",
   "metadata": {},
   "outputs": [
    {
     "name": "stdout",
     "output_type": "stream",
     "text": [
      "                   data    valor     Note  id_titulos\n",
      "0   2020-04-01 00:00:00   99.900   Actual           1\n",
      "1   2020-05-01 00:00:00   99.570   Actual           1\n",
      "2   2020-06-01 00:00:00   97.102   Actual           1\n",
      "3   2020-07-01 00:00:00   95.660   Actual           1\n",
      "4   2020-08-01 00:00:00   93.056   Actual           1\n",
      "..                  ...      ...      ...         ...\n",
      "56  2024-12-01 00:00:00  107.173   Actual           1\n",
      "57  2025-01-01 00:00:00  108.586   Actual           1\n",
      "58  2025-02-01 00:00:00  107.389   Actual           1\n",
      "59  2025-03-01 00:00:00  104.207   Actual           1\n",
      "60  2025-04-01 00:00:00  100.725   Actual           1\n",
      "\n",
      "[61 rows x 4 columns]\n"
     ]
    }
   ],
   "source": [
    "df = df.drop(df[df.iloc[:, 2] == \" Forecast\"].index)\n",
    "print(df)"
   ]
  },
  {
   "cell_type": "code",
   "execution_count": null,
   "id": "157def43-e675-46b0-b785-e670b9580ce9",
   "metadata": {},
   "outputs": [],
   "source": []
  },
  {
   "cell_type": "code",
   "execution_count": 74,
   "id": "9ee86526-66fe-46ec-8bfd-4396cd3c1768",
   "metadata": {},
   "outputs": [
    {
     "name": "stdout",
     "output_type": "stream",
     "text": [
      "Dados exportados com sucesso para a tabela tbtituloshist!\n"
     ]
    }
   ],
   "source": [
    "import sqlite3\n",
    "\n",
    "# Conectar ao banco de dados SQLite\n",
    "conn = sqlite3.connect(\"sqforecasts.db\")\n",
    "cursor = conn.cursor()\n",
    "\n",
    "# Converter a coluna \"data\" do DataFrame para string\n",
    "df[\"data\"] = df[\"data\"].astype(str)\n",
    "\n",
    "# Inserir os dados do DataFrame na tabela tbtituloshist\n",
    "for _, row in df.iterrows():\n",
    "    cursor.execute(\"\"\"\n",
    "        INSERT INTO tbtituloshist (id_titulos, data, valor) \n",
    "        VALUES (?, ?, ?)\n",
    "    \"\"\", (row[\"id_titulos\"], row[\"data\"], row[\"valor\"]))\n",
    "\n",
    "# Salvar e fechar conexão\n",
    "conn.commit()\n",
    "conn.close()\n",
    "\n",
    "print(\"Dados exportados com sucesso para a tabela tbtituloshist!\")"
   ]
  },
  {
   "cell_type": "code",
   "execution_count": null,
   "id": "ff3d12b1-8cbe-4b0a-a1d7-ef8fefd95f79",
   "metadata": {},
   "outputs": [],
   "source": []
  },
  {
   "cell_type": "code",
   "execution_count": null,
   "id": "cca93772-85d9-4645-abbf-2b7f37c9caca",
   "metadata": {},
   "outputs": [],
   "source": []
  }
 ],
 "metadata": {
  "kernelspec": {
   "display_name": "Python [conda env:base] *",
   "language": "python",
   "name": "conda-base-py"
  },
  "language_info": {
   "codemirror_mode": {
    "name": "ipython",
    "version": 3
   },
   "file_extension": ".py",
   "mimetype": "text/x-python",
   "name": "python",
   "nbconvert_exporter": "python",
   "pygments_lexer": "ipython3",
   "version": "3.12.3"
  }
 },
 "nbformat": 4,
 "nbformat_minor": 5
}
