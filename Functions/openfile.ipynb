{
 "cells": [
  {
   "cell_type": "code",
   "execution_count": 9,
   "id": "08c6d86e-1241-4b83-ac07-52a35e013139",
   "metadata": {},
   "outputs": [],
   "source": [
    "import tkinter as tk\n",
    "from tkinter import filedialog\n",
    "def openfile():\n",
    "                # Create a temporary root window\n",
    "                temp_root = tk.Tk()\n",
    "                temp_root.withdraw()  # Hide the root window\n",
    "                \n",
    "                # Create a top-level window to stay on top\n",
    "                top_level = tk.Toplevel(temp_root)\n",
    "                top_level.withdraw()  # Hide the top-level window\n",
    "                top_level.attributes('-topmost', 1)  # Make it stay on top\n",
    "                \n",
    "                # Open the file dialog using the top-level window\n",
    "                file_path = filedialog.askopenfilename(parent=top_level)\n",
    "                \n",
    "                # Destroy the top-level and root windows after the dialog is closed\n",
    "                top_level.destroy()\n",
    "                temp_root.destroy()\n",
    "                \n",
    "                # Print the selected file path\n",
    "                print(f'Selected file: {file_path}')"
   ]
  },
  {
   "cell_type": "code",
   "execution_count": 11,
   "id": "75330ad4-cd0c-4777-b502-eba9f905c8da",
   "metadata": {},
   "outputs": [
    {
     "name": "stdout",
     "output_type": "stream",
     "text": [
      "Selected file: C:/Users/scitr/anaconda_projects/xls_ao_sqlite_pandas/ResumenExperimentos1H-EEM(18-10-22) - Periodo1.xlsx\n",
      "None\n"
     ]
    }
   ],
   "source": [
    "print (openfile())"
   ]
  },
  {
   "cell_type": "code",
   "execution_count": null,
   "id": "03427f4d-8d84-4dba-acdd-67d9ff94de9d",
   "metadata": {},
   "outputs": [],
   "source": []
  }
 ],
 "metadata": {
  "kernelspec": {
   "display_name": "Python [conda env:base] *",
   "language": "python",
   "name": "conda-base-py"
  },
  "language_info": {
   "codemirror_mode": {
    "name": "ipython",
    "version": 3
   },
   "file_extension": ".py",
   "mimetype": "text/x-python",
   "name": "python",
   "nbconvert_exporter": "python",
   "pygments_lexer": "ipython3",
   "version": "3.12.7"
  }
 },
 "nbformat": 4,
 "nbformat_minor": 5
}
