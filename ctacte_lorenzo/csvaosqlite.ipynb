{
 "cells": [
  {
   "cell_type": "code",
   "execution_count": 1,
   "id": "8f031904-ebda-42eb-bfed-0aab03f4453b",
   "metadata": {},
   "outputs": [
    {
     "name": "stdout",
     "output_type": "stream",
     "text": [
      "Defaulting to user installation because normal site-packages is not writeable\n",
      "Requirement already satisfied: pandas in c:\\programdata\\anaconda3\\lib\\site-packages (2.2.2)\n",
      "Requirement already satisfied: numpy>=1.26.0 in c:\\programdata\\anaconda3\\lib\\site-packages (from pandas) (1.26.4)\n",
      "Requirement already satisfied: python-dateutil>=2.8.2 in c:\\programdata\\anaconda3\\lib\\site-packages (from pandas) (2.9.0.post0)\n",
      "Requirement already satisfied: pytz>=2020.1 in c:\\programdata\\anaconda3\\lib\\site-packages (from pandas) (2024.1)\n",
      "Requirement already satisfied: tzdata>=2022.7 in c:\\programdata\\anaconda3\\lib\\site-packages (from pandas) (2023.3)\n",
      "Requirement already satisfied: six>=1.5 in c:\\programdata\\anaconda3\\lib\\site-packages (from python-dateutil>=2.8.2->pandas) (1.16.0)\n",
      "Note: you may need to restart the kernel to use updated packages.\n"
     ]
    }
   ],
   "source": [
    "pip install pandas\n"
   ]
  },
  {
   "cell_type": "code",
   "execution_count": 48,
   "id": "ea43f129-6d5a-4b8c-8890-6c5a8efbb8f7",
   "metadata": {},
   "outputs": [],
   "source": [
    "import sqlite3\n",
    "import pandas as pd\n",
    "# Conecte-se ao banco de dados (ou crie um novo arquivo de banco de dados)\n",
    "conexao = sqlite3.connect('ctacte.db')\n",
    "\n"
   ]
  },
  {
   "cell_type": "code",
   "execution_count": 101,
   "id": "45eb4a2a-856b-4e4f-bba2-4b4387b02409",
   "metadata": {
    "panel-layout": {
     "height": 600,
     "visible": true,
     "width": 100
    },
    "scrolled": true
   },
   "outputs": [
    {
     "data": {
      "text/plain": [
       "CODIGO DA TRANSACAO    object\n",
       "DATA                   object\n",
       "TIPO                   object\n",
       "DESCRICAO              object\n",
       "VALOR                  object\n",
       "dtype: object"
      ]
     },
     "metadata": {},
     "output_type": "display_data"
    },
    {
     "data": {
      "text/plain": [
       "CODIGO DA TRANSACAO            object\n",
       "DATA                   datetime64[ns]\n",
       "TIPO                           object\n",
       "DESCRICAO                      object\n",
       "VALOR                         float64\n",
       "dtype: object"
      ]
     },
     "metadata": {},
     "output_type": "display_data"
    },
    {
     "data": {
      "text/html": [
       "<div>\n",
       "<style scoped>\n",
       "    .dataframe tbody tr th:only-of-type {\n",
       "        vertical-align: middle;\n",
       "    }\n",
       "\n",
       "    .dataframe tbody tr th {\n",
       "        vertical-align: top;\n",
       "    }\n",
       "\n",
       "    .dataframe thead th {\n",
       "        text-align: right;\n",
       "    }\n",
       "</style>\n",
       "<table border=\"1\" class=\"dataframe\">\n",
       "  <thead>\n",
       "    <tr style=\"text-align: right;\">\n",
       "      <th></th>\n",
       "      <th>DATA</th>\n",
       "      <th>VALOR</th>\n",
       "    </tr>\n",
       "  </thead>\n",
       "  <tbody>\n",
       "    <tr>\n",
       "      <th>count</th>\n",
       "      <td>679</td>\n",
       "      <td>679.000000</td>\n",
       "    </tr>\n",
       "    <tr>\n",
       "      <th>mean</th>\n",
       "      <td>2024-11-30 19:34:54.256259328</td>\n",
       "      <td>3.978483</td>\n",
       "    </tr>\n",
       "    <tr>\n",
       "      <th>min</th>\n",
       "      <td>2024-11-01 00:00:00</td>\n",
       "      <td>-2083.000000</td>\n",
       "    </tr>\n",
       "    <tr>\n",
       "      <th>25%</th>\n",
       "      <td>2024-11-14 00:00:00</td>\n",
       "      <td>-59.900000</td>\n",
       "    </tr>\n",
       "    <tr>\n",
       "      <th>50%</th>\n",
       "      <td>2024-12-02 00:00:00</td>\n",
       "      <td>-20.690000</td>\n",
       "    </tr>\n",
       "    <tr>\n",
       "      <th>75%</th>\n",
       "      <td>2024-12-16 00:00:00</td>\n",
       "      <td>-4.950000</td>\n",
       "    </tr>\n",
       "    <tr>\n",
       "      <th>max</th>\n",
       "      <td>2024-12-31 00:00:00</td>\n",
       "      <td>2720.000000</td>\n",
       "    </tr>\n",
       "    <tr>\n",
       "      <th>std</th>\n",
       "      <td>NaN</td>\n",
       "      <td>384.148723</td>\n",
       "    </tr>\n",
       "  </tbody>\n",
       "</table>\n",
       "</div>"
      ],
      "text/plain": [
       "                                DATA        VALOR\n",
       "count                            679   679.000000\n",
       "mean   2024-11-30 19:34:54.256259328     3.978483\n",
       "min              2024-11-01 00:00:00 -2083.000000\n",
       "25%              2024-11-14 00:00:00   -59.900000\n",
       "50%              2024-12-02 00:00:00   -20.690000\n",
       "75%              2024-12-16 00:00:00    -4.950000\n",
       "max              2024-12-31 00:00:00  2720.000000\n",
       "std                              NaN   384.148723"
      ]
     },
     "metadata": {},
     "output_type": "display_data"
    }
   ],
   "source": [
    "# Leia o arquivo CSV usando pandas\n",
    "dfctacte = pd.read_csv('ctacte.csv',sep=';',header = 0)\n",
    "#display(dfctacte)\n",
    "#display(dfctacte.head())\n",
    "#display(dfctacte.shape)\n",
    "#display(dfctacte.describe())\n",
    "display(dfctacte.dtypes)\n",
    "dfctacte['DATA'] = pd.to_datetime(dfctacte['DATA'], format='%d/%m/%Y')\n",
    "dfctacte['VALOR'] = dfctacte['VALOR'].str.replace(',', '.')\n",
    "dfctacte['VALOR'] = dfctacte['VALOR'].astype(float)\n",
    "display(dfctacte.dtypes)\n",
    "display(dfctacte.describe())"
   ]
  },
  {
   "cell_type": "code",
   "execution_count": 113,
   "id": "1bad6b9d-b943-4542-9417-4b8010fc68ce",
   "metadata": {
    "panel-layout": {
     "height": 18371,
     "visible": true,
     "width": 100
    }
   },
   "outputs": [
    {
     "data": {
      "text/html": [
       "<div>\n",
       "<style scoped>\n",
       "    .dataframe tbody tr th:only-of-type {\n",
       "        vertical-align: middle;\n",
       "    }\n",
       "\n",
       "    .dataframe tbody tr th {\n",
       "        vertical-align: top;\n",
       "    }\n",
       "\n",
       "    .dataframe thead th {\n",
       "        text-align: right;\n",
       "    }\n",
       "</style>\n",
       "<table border=\"1\" class=\"dataframe\">\n",
       "  <thead>\n",
       "    <tr style=\"text-align: right;\">\n",
       "      <th></th>\n",
       "      <th>DESCRICAO</th>\n",
       "      <th>VALOR</th>\n",
       "      <th>DATA</th>\n",
       "    </tr>\n",
       "  </thead>\n",
       "  <tbody>\n",
       "    <tr>\n",
       "      <th>0</th>\n",
       "      <td>Jaine Franco Alves</td>\n",
       "      <td>1000.00</td>\n",
       "      <td>2024-11-01</td>\n",
       "    </tr>\n",
       "    <tr>\n",
       "      <th>1</th>\n",
       "      <td>Silvia Ferraz Lemos</td>\n",
       "      <td>-6.99</td>\n",
       "      <td>2024-11-01</td>\n",
       "    </tr>\n",
       "    <tr>\n",
       "      <th>2</th>\n",
       "      <td>Silvia Ferraz Lemos</td>\n",
       "      <td>-35.68</td>\n",
       "      <td>2024-11-01</td>\n",
       "    </tr>\n",
       "    <tr>\n",
       "      <th>3</th>\n",
       "      <td>Pix Marketplace</td>\n",
       "      <td>-38.30</td>\n",
       "      <td>2024-11-01</td>\n",
       "    </tr>\n",
       "    <tr>\n",
       "      <th>4</th>\n",
       "      <td>Jaine Franco Alves</td>\n",
       "      <td>-14.00</td>\n",
       "      <td>2024-11-01</td>\n",
       "    </tr>\n",
       "    <tr>\n",
       "      <th>...</th>\n",
       "      <td>...</td>\n",
       "      <td>...</td>\n",
       "      <td>...</td>\n",
       "    </tr>\n",
       "    <tr>\n",
       "      <th>674</th>\n",
       "      <td>Silvia Ferraz Lemos</td>\n",
       "      <td>-28.35</td>\n",
       "      <td>2024-12-31</td>\n",
       "    </tr>\n",
       "    <tr>\n",
       "      <th>675</th>\n",
       "      <td>Acacio De Souza Ramos</td>\n",
       "      <td>-17.74</td>\n",
       "      <td>2024-12-31</td>\n",
       "    </tr>\n",
       "    <tr>\n",
       "      <th>676</th>\n",
       "      <td>Edivaldo Pereira Brito</td>\n",
       "      <td>-9.80</td>\n",
       "      <td>2024-12-31</td>\n",
       "    </tr>\n",
       "    <tr>\n",
       "      <th>677</th>\n",
       "      <td>Andreia Paraguai Santos</td>\n",
       "      <td>-30.00</td>\n",
       "      <td>2024-12-31</td>\n",
       "    </tr>\n",
       "    <tr>\n",
       "      <th>678</th>\n",
       "      <td>Leandro Nascimento Dias</td>\n",
       "      <td>-280.00</td>\n",
       "      <td>2024-12-31</td>\n",
       "    </tr>\n",
       "  </tbody>\n",
       "</table>\n",
       "<p>679 rows × 3 columns</p>\n",
       "</div>"
      ],
      "text/plain": [
       "                   DESCRICAO    VALOR       DATA\n",
       "0         Jaine Franco Alves  1000.00 2024-11-01\n",
       "1        Silvia Ferraz Lemos    -6.99 2024-11-01\n",
       "2        Silvia Ferraz Lemos   -35.68 2024-11-01\n",
       "3            Pix Marketplace   -38.30 2024-11-01\n",
       "4         Jaine Franco Alves   -14.00 2024-11-01\n",
       "..                       ...      ...        ...\n",
       "674      Silvia Ferraz Lemos   -28.35 2024-12-31\n",
       "675    Acacio De Souza Ramos   -17.74 2024-12-31\n",
       "676   Edivaldo Pereira Brito    -9.80 2024-12-31\n",
       "677  Andreia Paraguai Santos   -30.00 2024-12-31\n",
       "678  Leandro Nascimento Dias  -280.00 2024-12-31\n",
       "\n",
       "[679 rows x 3 columns]"
      ]
     },
     "metadata": {},
     "output_type": "display_data"
    }
   ],
   "source": [
    "dfdesc_valor = dfctacte[['DESCRICAO','VALOR','DATA']]\n",
    "display(dfdesc_valor)"
   ]
  },
  {
   "cell_type": "code",
   "execution_count": 161,
   "id": "d1a99fa3-6bce-4581-a39d-381a8948be69",
   "metadata": {
    "panel-layout": {
     "height": 246.625,
     "visible": true,
     "width": 100
    }
   },
   "outputs": [
    {
     "name": "stdout",
     "output_type": "stream",
     "text": [
      "                     DESCRICAO   VALOR       DATA\n",
      "73   Mateus Supermercados Ltda   -5.48 2024-11-07\n",
      "74   Mateus Supermercados Ltda   -6.39 2024-11-07\n",
      "75   Mateus Supermercados Ltda -692.34 2024-11-07\n",
      "279  Mateus Supermercados S.a. -676.07 2024-11-25\n"
     ]
    },
    {
     "data": {
      "text/plain": [
       "['DATA', 'DESCRICAO', 'VALOR']"
      ]
     },
     "metadata": {},
     "output_type": "display_data"
    },
    {
     "data": {
      "text/html": [
       "<div>\n",
       "<style scoped>\n",
       "    .dataframe tbody tr th:only-of-type {\n",
       "        vertical-align: middle;\n",
       "    }\n",
       "\n",
       "    .dataframe tbody tr th {\n",
       "        vertical-align: top;\n",
       "    }\n",
       "\n",
       "    .dataframe thead th {\n",
       "        text-align: right;\n",
       "    }\n",
       "</style>\n",
       "<table border=\"1\" class=\"dataframe\">\n",
       "  <thead>\n",
       "    <tr style=\"text-align: right;\">\n",
       "      <th></th>\n",
       "      <th>DATA</th>\n",
       "      <th>DESCRICAO</th>\n",
       "      <th>VALOR</th>\n",
       "    </tr>\n",
       "  </thead>\n",
       "  <tbody>\n",
       "    <tr>\n",
       "      <th>73</th>\n",
       "      <td>2024-11-07</td>\n",
       "      <td>Mateus Supermercados Ltda</td>\n",
       "      <td>-5.48</td>\n",
       "    </tr>\n",
       "    <tr>\n",
       "      <th>74</th>\n",
       "      <td>2024-11-07</td>\n",
       "      <td>Mateus Supermercados Ltda</td>\n",
       "      <td>-6.39</td>\n",
       "    </tr>\n",
       "    <tr>\n",
       "      <th>75</th>\n",
       "      <td>2024-11-07</td>\n",
       "      <td>Mateus Supermercados Ltda</td>\n",
       "      <td>-692.34</td>\n",
       "    </tr>\n",
       "    <tr>\n",
       "      <th>279</th>\n",
       "      <td>2024-11-25</td>\n",
       "      <td>Mateus Supermercados S.a.</td>\n",
       "      <td>-676.07</td>\n",
       "    </tr>\n",
       "  </tbody>\n",
       "</table>\n",
       "</div>"
      ],
      "text/plain": [
       "          DATA                  DESCRICAO   VALOR\n",
       "73  2024-11-07  Mateus Supermercados Ltda   -5.48\n",
       "74  2024-11-07  Mateus Supermercados Ltda   -6.39\n",
       "75  2024-11-07  Mateus Supermercados Ltda -692.34\n",
       "279 2024-11-25  Mateus Supermercados S.a. -676.07"
      ]
     },
     "metadata": {},
     "output_type": "display_data"
    }
   ],
   "source": [
    "#display(dfdesc_valor.loc [dfdesc_valor['DESCRICAO']== 'Mateus'] )\n",
    "#display(dfdesc_valor.loc [dfdesc_valor['VALOR']<=-500] )\n",
    "#display(dfdesc_valor[dfdesc_valor['DESCRICAO'].str.match('Mateus')])\n",
    "#display(dfdesc_valor[dfdesc_valor['DESCRICAO'].str.contains('mateus', case = False)])\n",
    "#display(dfdesc_valor.loc [dfdesc_valor['DESCRICAO'].str.match('Mateus')] )\n",
    "dfselect = dfdesc_valor.loc [dfdesc_valor['DESCRICAO'].str.match('Mateus')]\n",
    "print (dfselect)\n",
    "display (sorted(dfselect.columns))\n",
    "lsselsort =sorted(dfselect.columns)\n",
    "dfselsort = dfselect.reindex(columns= lsselsort)\n",
    "display(dfselsort)\n"
   ]
  },
  {
   "cell_type": "code",
   "execution_count": 164,
   "id": "ac349c43-b2ee-4b77-8e58-cbf1305fcde4",
   "metadata": {},
   "outputs": [],
   "source": [
    "import matplotlib.pyplot as plt"
   ]
  },
  {
   "cell_type": "code",
   "execution_count": null,
   "id": "eb6e5e11-673f-4cf8-a6be-aed6d8bd7450",
   "metadata": {},
   "outputs": [],
   "source": []
  },
  {
   "cell_type": "code",
   "execution_count": 171,
   "id": "86c0e1fb-f841-4c9d-ae55-7afc5d03e07d",
   "metadata": {
    "panel-layout": {
     "height": 701,
     "visible": true,
     "width": 100
    }
   },
   "outputs": [
    {
     "data": {
      "image/png": "[encoded data removed]",
      "text/plain": [
       "<Figure size 640x480 with 1 Axes>"
      ]
     },
     "metadata": {},
     "output_type": "display_data"
    }
   ],
   "source": [
    "plt.plot(dfdesc_valor['DATA'], dfdesc_valor['VALOR'])\n",
    "plt.xlabel('Data')\n",
    "plt.ylabel('Valores')\n",
    "plt.title('Mov Nov-Dic')\n",
    "plt.show()"
   ]
  },
  {
   "cell_type": "code",
   "execution_count": 173,
   "id": "a8a977ad-c022-450d-b2ae-0ab7c7632fe6",
   "metadata": {
    "panel-layout": {
     "height": 701,
     "visible": true,
     "width": 100
    }
   },
   "outputs": [
    {
     "data": {
      "image/png": "[encoded data removed]",
      "text/plain": [
       "<Figure size 640x480 with 1 Axes>"
      ]
     },
     "metadata": {},
     "output_type": "display_data"
    }
   ],
   "source": [
    "import seaborn as sns\n",
    "\n",
    "# Plotar gráfico de linha com seaborn\n",
    "sns.lineplot(data=dfdesc_valor, x='DATA', y='VALOR')\n",
    "plt.xlabel('Data')\n",
    "plt.ylabel('Valores')\n",
    "plt.title('Mov Nov-Dic')\n",
    "plt.show()"
   ]
  },
  {
   "cell_type": "code",
   "execution_count": 177,
   "id": "e8cf05b5-2491-4b00-acf8-0b5fb8298476",
   "metadata": {},
   "outputs": [],
   "source": [
    "# Exportar o DataFrame para um arquivo CSV com codificação UTF-8\n",
    "dfdesc_valor.to_csv('mov_nov_dic.csv', index=False,)"
   ]
  },
  {
   "cell_type": "code",
   "execution_count": 183,
   "id": "3b0ddc65-7150-44dc-92a3-0975bb065ff9",
   "metadata": {},
   "outputs": [],
   "source": [
    "# Exportar o DataFrame para uma tabela no banco de dados SQLite\n",
    "dfdesc_valor.to_sql('dbtbmov_nov_dic', conexao, if_exists='replace', index=False)\n",
    "# Fechar a conexão\n",
    "conexao.close()"
   ]
  },
  {
   "cell_type": "code",
   "execution_count": 185,
   "id": "5d371da2-d3e7-42c8-8959-4be80b9460bd",
   "metadata": {},
   "outputs": [
    {
     "name": "stdout",
     "output_type": "stream",
     "text": [
      "                   DESCRICAO    VALOR                 DATA\n",
      "0         Jaine Franco Alves  1000.00  2024-11-01 00:00:00\n",
      "1        Silvia Ferraz Lemos    -6.99  2024-11-01 00:00:00\n",
      "2        Silvia Ferraz Lemos   -35.68  2024-11-01 00:00:00\n",
      "3            Pix Marketplace   -38.30  2024-11-01 00:00:00\n",
      "4         Jaine Franco Alves   -14.00  2024-11-01 00:00:00\n",
      "..                       ...      ...                  ...\n",
      "674      Silvia Ferraz Lemos   -28.35  2024-12-31 00:00:00\n",
      "675    Acacio De Souza Ramos   -17.74  2024-12-31 00:00:00\n",
      "676   Edivaldo Pereira Brito    -9.80  2024-12-31 00:00:00\n",
      "677  Andreia Paraguai Santos   -30.00  2024-12-31 00:00:00\n",
      "678  Leandro Nascimento Dias  -280.00  2024-12-31 00:00:00\n",
      "\n",
      "[679 rows x 3 columns]\n"
     ]
    }
   ],
   "source": [
    "# Conectar-se ao banco de dados (substitua 'meu_banco_de_dados.db' pelo nome do seu banco de dados)\n",
    "conexao = sqlite3.connect('ctacte.db')\n",
    "\n",
    "# Ler a tabela (substitua 'minha_tabela' pelo nome da sua tabela)\n",
    "df = pd.read_sql_query('SELECT * FROM dbtbmov_nov_dic', conexao)\n",
    "\n",
    "# Exibir o DataFrame\n",
    "print(df)\n",
    "\n",
    "# Fechar a conexão\n",
    "conexao.close()"
   ]
  },
  {
   "cell_type": "code",
   "execution_count": 189,
   "id": "f2c74156-8ae9-4fa4-8b85-97047ead45ce",
   "metadata": {},
   "outputs": [
    {
     "name": "stdout",
     "output_type": "stream",
     "text": [
      "Tabelas no banco de dados: [('tbctacte',), ('dbtbmov_nov_dic',)]\n",
      "Estrutura da tabela 'dbtbmov_nov_dic': [(0, 'DESCRICAO', 'TEXT', 0, None, 0), (1, 'VALOR', 'REAL', 0, None, 0), (2, 'DATA', 'TIMESTAMP', 0, None, 0)]\n"
     ]
    }
   ],
   "source": [
    "# Conectar-se ao banco de dados (substitua 'meu_banco_de_dados.db' pelo nome do seu banco de dados)\n",
    "conexao = sqlite3.connect('ctacte.db')\n",
    "\n",
    "# Obter um cursor\n",
    "cursor = conexao.cursor()\n",
    "\n",
    "# Listar todas as tabelas no banco de dados\n",
    "cursor.execute(\"SELECT name FROM sqlite_master WHERE type='table';\")\n",
    "tabelas = cursor.fetchall()\n",
    "print(\"Tabelas no banco de dados:\", tabelas)\n",
    "\n",
    "# Obter estrutura de uma tabela específica (substitua 'minha_tabela' pelo nome da tabela)\n",
    "cursor.execute(\"PRAGMA table_info(dbtbmov_nov_dic);\")\n",
    "colunas = cursor.fetchall()\n",
    "print(\"Estrutura da tabela 'dbtbmov_nov_dic':\", colunas)\n",
    "\n",
    "# Fechar a conexão\n",
    "conexao.close()\n"
   ]
  },
  {
   "cell_type": "code",
   "execution_count": null,
   "id": "7951f920-4d36-4f25-b2d0-3346219c66c1",
   "metadata": {},
   "outputs": [],
   "source": []
  }
 ],
 "metadata": {
  "kernelspec": {
   "display_name": "Python [conda env:base] *",
   "language": "python",
   "name": "conda-base-py"
  },
  "language_info": {
   "codemirror_mode": {
    "name": "ipython",
    "version": 3
   },
   "file_extension": ".py",
   "mimetype": "text/x-python",
   "name": "python",
   "nbconvert_exporter": "python",
   "pygments_lexer": "ipython3",
   "version": "3.12.3"
  },
  "panel-cell-order": [
   "45eb4a2a-856b-4e4f-bba2-4b4387b02409",
   "1bad6b9d-b943-4542-9417-4b8010fc68ce",
   "d1a99fa3-6bce-4581-a39d-381a8948be69",
   "86c0e1fb-f841-4c9d-ae55-7afc5d03e07d",
   "a8a977ad-c022-450d-b2ae-0ab7c7632fe6"
  ]
 },
 "nbformat": 4,
 "nbformat_minor": 5
}
